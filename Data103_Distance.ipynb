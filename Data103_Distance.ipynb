{
  "nbformat": 4,
  "nbformat_minor": 0,
  "metadata": {
    "colab": {
      "name": "Data103 Distance.ipynb",
      "provenance": [],
      "authorship_tag": "ABX9TyPaJ2IJthZHoqVVBaAe9kj3",
      "include_colab_link": true
    },
    "kernelspec": {
      "name": "python3",
      "display_name": "Python 3"
    }
  },
  "cells": [
    {
      "cell_type": "markdown",
      "metadata": {
        "id": "view-in-github",
        "colab_type": "text"
      },
      "source": [
        "<a href=\"https://colab.research.google.com/github/Suphattha/KKU_data_mining/blob/master/Data103_Distance.ipynb\" target=\"_parent\"><img src=\"https://colab.research.google.com/assets/colab-badge.svg\" alt=\"Open In Colab\"/></a>"
      ]
    },
    {
      "cell_type": "code",
      "metadata": {
        "id": "zdBbpAWrqNgl",
        "colab_type": "code",
        "colab": {}
      },
      "source": [
        "import numpy as np"
      ],
      "execution_count": null,
      "outputs": []
    },
    {
      "cell_type": "code",
      "metadata": {
        "id": "ZdNU7KFFqVIM",
        "colab_type": "code",
        "colab": {
          "base_uri": "https://localhost:8080/",
          "height": 52
        },
        "outputId": "a2ba3252-e388-4930-e63e-ca1c90fa9b9b"
      },
      "source": [
        "np1 = np.array([[1,3,5],[2,4,6]])\n",
        "np1"
      ],
      "execution_count": null,
      "outputs": [
        {
          "output_type": "execute_result",
          "data": {
            "text/plain": [
              "array([[1, 3, 5],\n",
              "       [2, 4, 6]])"
            ]
          },
          "metadata": {
            "tags": []
          },
          "execution_count": 2
        }
      ]
    },
    {
      "cell_type": "code",
      "metadata": {
        "id": "pvxETYnnqbFT",
        "colab_type": "code",
        "colab": {
          "base_uri": "https://localhost:8080/",
          "height": 87
        },
        "outputId": "635ff074-9044-4fc1-9bac-f9d206ad4b03"
      },
      "source": [
        "np2 = np.array([[1,2],[3,5],[2,0],[4,5]])\n",
        "np2"
      ],
      "execution_count": null,
      "outputs": [
        {
          "output_type": "execute_result",
          "data": {
            "text/plain": [
              "array([[1, 2],\n",
              "       [3, 5],\n",
              "       [2, 0],\n",
              "       [4, 5]])"
            ]
          },
          "metadata": {
            "tags": []
          },
          "execution_count": 42
        }
      ]
    },
    {
      "cell_type": "code",
      "metadata": {
        "id": "NSyFyibsqiT3",
        "colab_type": "code",
        "colab": {
          "base_uri": "https://localhost:8080/",
          "height": 52
        },
        "outputId": "b11d6250-468a-4651-fa0f-32f5f275f838"
      },
      "source": [
        "np2.T"
      ],
      "execution_count": null,
      "outputs": [
        {
          "output_type": "execute_result",
          "data": {
            "text/plain": [
              "array([[1, 3, 2, 4],\n",
              "       [2, 5, 0, 5]])"
            ]
          },
          "metadata": {
            "tags": []
          },
          "execution_count": 43
        }
      ]
    },
    {
      "cell_type": "code",
      "metadata": {
        "id": "G3fUqvQHqmal",
        "colab_type": "code",
        "colab": {
          "base_uri": "https://localhost:8080/",
          "height": 35
        },
        "outputId": "afc4b68c-f2e5-4249-96dd-baf526454b00"
      },
      "source": [
        "np2[0,:]"
      ],
      "execution_count": null,
      "outputs": [
        {
          "output_type": "execute_result",
          "data": {
            "text/plain": [
              "array([1, 2])"
            ]
          },
          "metadata": {
            "tags": []
          },
          "execution_count": 44
        }
      ]
    },
    {
      "cell_type": "markdown",
      "metadata": {
        "id": "zGm3OFxyqq-T",
        "colab_type": "text"
      },
      "source": [
        "##HW 6 สร้าง Distance matrix (Euclidean) ของ np2\n",
        "โดยสร้าง function สำหรับคำนวณ Euclidean Distance\n",
        "\n",
        "---\n",
        "     det Euclidean(data1,data2):\n",
        "\n",
        "      #process\n",
        "\n",
        "      return dist"
      ]
    },
    {
      "cell_type": "code",
      "metadata": {
        "id": "LWnk6SI5rQ2i",
        "colab_type": "code",
        "colab": {}
      },
      "source": [
        "def Manhattan(data1,data2) : \n",
        "      distX = abs(data1[0]-data2[0])\n",
        "      distY = abs(data1[1]-data2[1])\n",
        "      return distX+distY"
      ],
      "execution_count": null,
      "outputs": []
    },
    {
      "cell_type": "code",
      "metadata": {
        "id": "AEu-_Gi5rhA3",
        "colab_type": "code",
        "colab": {
          "base_uri": "https://localhost:8080/",
          "height": 35
        },
        "outputId": "67e5728e-a247-4b5b-8114-e96bb8aa0ac6"
      },
      "source": [
        "Manhattan(np2[0,:],np2[1,:])"
      ],
      "execution_count": null,
      "outputs": [
        {
          "output_type": "execute_result",
          "data": {
            "text/plain": [
              "5"
            ]
          },
          "metadata": {
            "tags": []
          },
          "execution_count": 7
        }
      ]
    },
    {
      "cell_type": "code",
      "metadata": {
        "id": "TZ-wcFzgrmHw",
        "colab_type": "code",
        "colab": {
          "base_uri": "https://localhost:8080/",
          "height": 87
        },
        "outputId": "972d8ef8-a38b-4783-f5c3-1e43b7323497"
      },
      "source": [
        "dist_mat = np.zeros((4,4))\n",
        "dist_mat "
      ],
      "execution_count": null,
      "outputs": [
        {
          "output_type": "execute_result",
          "data": {
            "text/plain": [
              "array([[0., 0., 0., 0.],\n",
              "       [0., 0., 0., 0.],\n",
              "       [0., 0., 0., 0.],\n",
              "       [0., 0., 0., 0.]])"
            ]
          },
          "metadata": {
            "tags": []
          },
          "execution_count": 8
        }
      ]
    },
    {
      "cell_type": "code",
      "metadata": {
        "id": "EhJF47VAru4f",
        "colab_type": "code",
        "colab": {
          "base_uri": "https://localhost:8080/",
          "height": 87
        },
        "outputId": "ff7d6b5b-5a65-41ce-93fd-076f1954174b"
      },
      "source": [
        "for i in range(4) :\n",
        "     for j in range(4) :\n",
        "          dist_mat[i,j] = Manhattan(np2[i,:],np2[j,:])\n",
        "\n",
        "dist_mat         "
      ],
      "execution_count": null,
      "outputs": [
        {
          "output_type": "execute_result",
          "data": {
            "text/plain": [
              "array([[0., 5., 3., 6.],\n",
              "       [5., 0., 6., 1.],\n",
              "       [3., 6., 0., 7.],\n",
              "       [6., 1., 7., 0.]])"
            ]
          },
          "metadata": {
            "tags": []
          },
          "execution_count": 9
        }
      ]
    },
    {
      "cell_type": "code",
      "metadata": {
        "id": "Wzm7xj1JsVDb",
        "colab_type": "code",
        "colab": {}
      },
      "source": [
        "def Euclidean(data1,data2):\n",
        "    distX = pow(abs(data1[0]-data2[0]),2)\n",
        "    distY = pow(abs(data1[1]-data2[1]),2)\n",
        "    return distX+distY"
      ],
      "execution_count": null,
      "outputs": []
    },
    {
      "cell_type": "code",
      "metadata": {
        "id": "74yFXq4KTMFY",
        "colab_type": "code",
        "colab": {
          "base_uri": "https://localhost:8080/",
          "height": 87
        },
        "outputId": "fc2e824a-3c8a-4aa6-9eb7-7f540c499483"
      },
      "source": [
        "dist_math1 = np.zeros((4,4))\n",
        "dist_math1"
      ],
      "execution_count": null,
      "outputs": [
        {
          "output_type": "execute_result",
          "data": {
            "text/plain": [
              "array([[0., 0., 0., 0.],\n",
              "       [0., 0., 0., 0.],\n",
              "       [0., 0., 0., 0.],\n",
              "       [0., 0., 0., 0.]])"
            ]
          },
          "metadata": {
            "tags": []
          },
          "execution_count": 39
        }
      ]
    },
    {
      "cell_type": "code",
      "metadata": {
        "id": "tnLeptDXV8Gy",
        "colab_type": "code",
        "colab": {
          "base_uri": "https://localhost:8080/",
          "height": 87
        },
        "outputId": "b6a85df9-0623-4868-9358-86a14380b79c"
      },
      "source": [
        "for i in range(4) :\n",
        "     for j in range(4) :\n",
        "          dist_math1[i,j] = Euclidean(np2[i,:],np2[j,:])\n",
        "        \n",
        "dist_math1"
      ],
      "execution_count": null,
      "outputs": [
        {
          "output_type": "execute_result",
          "data": {
            "text/plain": [
              "array([[ 0., 13.,  5., 18.],\n",
              "       [13.,  0., 26.,  1.],\n",
              "       [ 5., 26.,  0., 29.],\n",
              "       [18.,  1., 29.,  0.]])"
            ]
          },
          "metadata": {
            "tags": []
          },
          "execution_count": 40
        }
      ]
    },
    {
      "cell_type": "markdown",
      "metadata": {
        "id": "qOQlLBuR0HVo",
        "colab_type": "text"
      },
      "source": [
        "# Distance of nominal or categorical features"
      ]
    },
    {
      "cell_type": "markdown",
      "metadata": {
        "id": "aTx24K9o0LpL",
        "colab_type": "text"
      },
      "source": [
        "### (extra) Python data structure (Dictionary)"
      ]
    },
    {
      "cell_type": "markdown",
      "metadata": {
        "id": "ID3C0wax0USL",
        "colab_type": "text"
      },
      "source": [
        "![79517608_743793789450284_6442360646607568896_n.png](data:image/png;base64,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)"
      ]
    },
    {
      "cell_type": "code",
      "metadata": {
        "id": "tb745e_b0MTZ",
        "colab_type": "code",
        "colab": {}
      },
      "source": [
        "d_A ={'a':1,2:3,3:5,'cat':6}"
      ],
      "execution_count": 1,
      "outputs": []
    },
    {
      "cell_type": "code",
      "metadata": {
        "id": "dzNUgCQb0YSY",
        "colab_type": "code",
        "colab": {
          "base_uri": "https://localhost:8080/",
          "height": 34
        },
        "outputId": "980ee7ec-6429-40ef-951f-74260e150cea"
      },
      "source": [
        "d_A"
      ],
      "execution_count": 2,
      "outputs": [
        {
          "output_type": "execute_result",
          "data": {
            "text/plain": [
              "{2: 3, 3: 5, 'a': 1, 'cat': 6}"
            ]
          },
          "metadata": {
            "tags": []
          },
          "execution_count": 2
        }
      ]
    },
    {
      "cell_type": "code",
      "metadata": {
        "id": "-Sf87P4V0J5U",
        "colab_type": "code",
        "colab": {
          "base_uri": "https://localhost:8080/",
          "height": 34
        },
        "outputId": "82d839de-6601-4502-9ca8-1a98421a99b7"
      },
      "source": [
        "d_A['cat']"
      ],
      "execution_count": 3,
      "outputs": [
        {
          "output_type": "execute_result",
          "data": {
            "text/plain": [
              "6"
            ]
          },
          "metadata": {
            "tags": []
          },
          "execution_count": 3
        }
      ]
    },
    {
      "cell_type": "code",
      "metadata": {
        "id": "VccaC2s60jvz",
        "colab_type": "code",
        "colab": {}
      },
      "source": [
        "d_A['dog']=[1,2,3,4,5]"
      ],
      "execution_count": 4,
      "outputs": []
    },
    {
      "cell_type": "code",
      "metadata": {
        "id": "MW7a7kJ80lB1",
        "colab_type": "code",
        "colab": {
          "base_uri": "https://localhost:8080/",
          "height": 34
        },
        "outputId": "ea1c7dd5-f487-40e0-972b-ffb4e726d478"
      },
      "source": [
        "d_A"
      ],
      "execution_count": 5,
      "outputs": [
        {
          "output_type": "execute_result",
          "data": {
            "text/plain": [
              "{2: 3, 3: 5, 'a': 1, 'cat': 6, 'dog': [1, 2, 3, 4, 5]}"
            ]
          },
          "metadata": {
            "tags": []
          },
          "execution_count": 5
        }
      ]
    },
    {
      "cell_type": "code",
      "metadata": {
        "id": "bc7JvyTW0k5Q",
        "colab_type": "code",
        "colab": {}
      },
      "source": [
        "del d_A[2]"
      ],
      "execution_count": 6,
      "outputs": []
    },
    {
      "cell_type": "code",
      "metadata": {
        "id": "umDDMpDi0krR",
        "colab_type": "code",
        "colab": {
          "base_uri": "https://localhost:8080/",
          "height": 34
        },
        "outputId": "62d3375a-7b88-4d5e-f85a-266ce1be04f0"
      },
      "source": [
        "d_A"
      ],
      "execution_count": 7,
      "outputs": [
        {
          "output_type": "execute_result",
          "data": {
            "text/plain": [
              "{3: 5, 'a': 1, 'cat': 6, 'dog': [1, 2, 3, 4, 5]}"
            ]
          },
          "metadata": {
            "tags": []
          },
          "execution_count": 7
        }
      ]
    },
    {
      "cell_type": "code",
      "metadata": {
        "id": "UDhRhilX0vA5",
        "colab_type": "code",
        "colab": {}
      },
      "source": [
        "import pandas as pd"
      ],
      "execution_count": 8,
      "outputs": []
    },
    {
      "cell_type": "code",
      "metadata": {
        "id": "9VIxhh000u20",
        "colab_type": "code",
        "colab": {
          "base_uri": "https://localhost:8080/",
          "height": 34
        },
        "outputId": "f9d9b76a-5d39-482d-bcb9-ffe3f7ff18af"
      },
      "source": [
        "data_dict = {'color':['red','red','green'],\n",
        "             'status':['single','married','single']}\n",
        "data_dict"
      ],
      "execution_count": 9,
      "outputs": [
        {
          "output_type": "execute_result",
          "data": {
            "text/plain": [
              "{'color': ['red', 'red', 'green'], 'status': ['single', 'married', 'single']}"
            ]
          },
          "metadata": {
            "tags": []
          },
          "execution_count": 9
        }
      ]
    },
    {
      "cell_type": "code",
      "metadata": {
        "id": "WjO1CXAM03uF",
        "colab_type": "code",
        "colab": {
          "base_uri": "https://localhost:8080/",
          "height": 143
        },
        "outputId": "3ed2d345-a988-40c6-9268-a5d40f6db89f"
      },
      "source": [
        "data_pd = pd.DataFrame.from_dict(data_dict)\n",
        "data_pd"
      ],
      "execution_count": 10,
      "outputs": [
        {
          "output_type": "execute_result",
          "data": {
            "text/html": [
              "<div>\n",
              "<style scoped>\n",
              "    .dataframe tbody tr th:only-of-type {\n",
              "        vertical-align: middle;\n",
              "    }\n",
              "\n",
              "    .dataframe tbody tr th {\n",
              "        vertical-align: top;\n",
              "    }\n",
              "\n",
              "    .dataframe thead th {\n",
              "        text-align: right;\n",
              "    }\n",
              "</style>\n",
              "<table border=\"1\" class=\"dataframe\">\n",
              "  <thead>\n",
              "    <tr style=\"text-align: right;\">\n",
              "      <th></th>\n",
              "      <th>color</th>\n",
              "      <th>status</th>\n",
              "    </tr>\n",
              "  </thead>\n",
              "  <tbody>\n",
              "    <tr>\n",
              "      <th>0</th>\n",
              "      <td>red</td>\n",
              "      <td>single</td>\n",
              "    </tr>\n",
              "    <tr>\n",
              "      <th>1</th>\n",
              "      <td>red</td>\n",
              "      <td>married</td>\n",
              "    </tr>\n",
              "    <tr>\n",
              "      <th>2</th>\n",
              "      <td>green</td>\n",
              "      <td>single</td>\n",
              "    </tr>\n",
              "  </tbody>\n",
              "</table>\n",
              "</div>"
            ],
            "text/plain": [
              "   color   status\n",
              "0    red   single\n",
              "1    red  married\n",
              "2  green   single"
            ]
          },
          "metadata": {
            "tags": []
          },
          "execution_count": 10
        }
      ]
    },
    {
      "cell_type": "code",
      "metadata": {
        "id": "hpUUm6M70ubj",
        "colab_type": "code",
        "colab": {}
      },
      "source": [
        ""
      ],
      "execution_count": null,
      "outputs": []
    },
    {
      "cell_type": "markdown",
      "metadata": {
        "id": "Zb7imRII1C0M",
        "colab_type": "text"
      },
      "source": [
        "# Categorical feature distance method#1"
      ]
    },
    {
      "cell_type": "code",
      "metadata": {
        "id": "TzmE13ZE1Fvs",
        "colab_type": "code",
        "colab": {
          "base_uri": "https://localhost:8080/",
          "height": 34
        },
        "outputId": "86c319c9-8c6d-4a51-e282-7685deeb8d98"
      },
      "source": [
        "list(data_pd.iloc[0,:])"
      ],
      "execution_count": 11,
      "outputs": [
        {
          "output_type": "execute_result",
          "data": {
            "text/plain": [
              "['red', 'single']"
            ]
          },
          "metadata": {
            "tags": []
          },
          "execution_count": 11
        }
      ]
    },
    {
      "cell_type": "code",
      "metadata": {
        "id": "67intHxg1Fm1",
        "colab_type": "code",
        "colab": {}
      },
      "source": [
        "def meth1_dist(data1,data2):\n",
        "  N = 0\n",
        "  print(f'data1 is {data1} and data2 is {data2}')\n",
        "  for i in range(len(data1)):\n",
        "    print(f'featurel{i} of data1 is {data1[i]} , featurel{i} of data2 is {data2[i]}')\n",
        "    if data1[i] != data2[i]:\n",
        "      N = N+1\n",
        "      print(f' {data1[i]} is not equal {data2[i]} : updated ({N})')\n",
        "    else:\n",
        "      print(f' {data1[i]} is equal {data2[i]}')\n",
        "  return N/len(data1)"
      ],
      "execution_count": 12,
      "outputs": []
    },
    {
      "cell_type": "code",
      "metadata": {
        "id": "lyIxG0r61FEg",
        "colab_type": "code",
        "colab": {
          "base_uri": "https://localhost:8080/",
          "height": 121
        },
        "outputId": "0ef4efc4-d5c8-4be3-f351-44c8f886a740"
      },
      "source": [
        "meth1_dist(list(data_pd.iloc[0,:]),list(data_pd.iloc[1,:]))"
      ],
      "execution_count": 13,
      "outputs": [
        {
          "output_type": "stream",
          "text": [
            "data1 is ['red', 'single'] and data2 is ['red', 'married']\n",
            "featurel0 of data1 is red , featurel0 of data2 is red\n",
            " red is equal red\n",
            "featurel1 of data1 is single , featurel1 of data2 is married\n",
            " single is not equal married : updated (1)\n"
          ],
          "name": "stdout"
        },
        {
          "output_type": "execute_result",
          "data": {
            "text/plain": [
              "0.5"
            ]
          },
          "metadata": {
            "tags": []
          },
          "execution_count": 13
        }
      ]
    },
    {
      "cell_type": "markdown",
      "metadata": {
        "id": "tUgGlTj21WX1",
        "colab_type": "text"
      },
      "source": [
        "# HW7 calculate distance matrix of data_pd using meth1_dist()"
      ]
    },
    {
      "cell_type": "markdown",
      "metadata": {
        "id": "lHGddf1H1bG5",
        "colab_type": "text"
      },
      "source": [
        "### Categorical feature distance method#2"
      ]
    },
    {
      "cell_type": "code",
      "metadata": {
        "id": "1QbWHq8I1YIh",
        "colab_type": "code",
        "colab": {
          "base_uri": "https://localhost:8080/",
          "height": 143
        },
        "outputId": "9d3cc5ca-a67f-438e-d05c-cab0a0cca329"
      },
      "source": [
        "data_pd_binary = pd.get_dummies(data_pd)\n",
        "data_pd_binary"
      ],
      "execution_count": 14,
      "outputs": [
        {
          "output_type": "execute_result",
          "data": {
            "text/html": [
              "<div>\n",
              "<style scoped>\n",
              "    .dataframe tbody tr th:only-of-type {\n",
              "        vertical-align: middle;\n",
              "    }\n",
              "\n",
              "    .dataframe tbody tr th {\n",
              "        vertical-align: top;\n",
              "    }\n",
              "\n",
              "    .dataframe thead th {\n",
              "        text-align: right;\n",
              "    }\n",
              "</style>\n",
              "<table border=\"1\" class=\"dataframe\">\n",
              "  <thead>\n",
              "    <tr style=\"text-align: right;\">\n",
              "      <th></th>\n",
              "      <th>color_green</th>\n",
              "      <th>color_red</th>\n",
              "      <th>status_married</th>\n",
              "      <th>status_single</th>\n",
              "    </tr>\n",
              "  </thead>\n",
              "  <tbody>\n",
              "    <tr>\n",
              "      <th>0</th>\n",
              "      <td>0</td>\n",
              "      <td>1</td>\n",
              "      <td>0</td>\n",
              "      <td>1</td>\n",
              "    </tr>\n",
              "    <tr>\n",
              "      <th>1</th>\n",
              "      <td>0</td>\n",
              "      <td>1</td>\n",
              "      <td>1</td>\n",
              "      <td>0</td>\n",
              "    </tr>\n",
              "    <tr>\n",
              "      <th>2</th>\n",
              "      <td>1</td>\n",
              "      <td>0</td>\n",
              "      <td>0</td>\n",
              "      <td>1</td>\n",
              "    </tr>\n",
              "  </tbody>\n",
              "</table>\n",
              "</div>"
            ],
            "text/plain": [
              "   color_green  color_red  status_married  status_single\n",
              "0            0          1               0              1\n",
              "1            0          1               1              0\n",
              "2            1          0               0              1"
            ]
          },
          "metadata": {
            "tags": []
          },
          "execution_count": 14
        }
      ]
    },
    {
      "cell_type": "code",
      "metadata": {
        "id": "O2UEQCgP1QjU",
        "colab_type": "code",
        "colab": {}
      },
      "source": [
        "def binary_sym_dist(data1,data2):\n",
        "  q = 0\n",
        "  rs = 0\n",
        "  t = 0\n",
        "  for i in range(len(data1)):\n",
        "    if data1[i] == data2[i]:\n",
        "      if data1[i] == 1:\n",
        "        q = q + 1\n",
        "      else:\n",
        "        t = t + 1\n",
        "    if data1[i] != data2[i]:\n",
        "      rs = rs + 1\n",
        "\n",
        "  return (rs)/(q+rs+t)"
      ],
      "execution_count": 15,
      "outputs": []
    },
    {
      "cell_type": "code",
      "metadata": {
        "id": "uUdeoGLb1SHe",
        "colab_type": "code",
        "colab": {
          "base_uri": "https://localhost:8080/",
          "height": 34
        },
        "outputId": "4772e5d0-d708-40dc-965a-7531e13aa0cf"
      },
      "source": [
        "binary_sym_dist(list(data_pd_binary.iloc[0,:]),list(data_pd_binary.iloc[1,:]))"
      ],
      "execution_count": 16,
      "outputs": [
        {
          "output_type": "execute_result",
          "data": {
            "text/plain": [
              "0.5"
            ]
          },
          "metadata": {
            "tags": []
          },
          "execution_count": 16
        }
      ]
    },
    {
      "cell_type": "code",
      "metadata": {
        "id": "_nCPsrko1nlQ",
        "colab_type": "code",
        "colab": {}
      },
      "source": [
        ""
      ],
      "execution_count": null,
      "outputs": []
    },
    {
      "cell_type": "markdown",
      "metadata": {
        "id": "c_MB97eM1rWw",
        "colab_type": "text"
      },
      "source": [
        "# HW8 calculate distance matrix of data_pd_binary using binary_sym_dist()"
      ]
    },
    {
      "cell_type": "code",
      "metadata": {
        "id": "XVrACXgB1uZN",
        "colab_type": "code",
        "colab": {}
      },
      "source": [
        ""
      ],
      "execution_count": null,
      "outputs": []
    },
    {
      "cell_type": "code",
      "metadata": {
        "id": "Set5Ia_21uNJ",
        "colab_type": "code",
        "colab": {}
      },
      "source": [
        ""
      ],
      "execution_count": null,
      "outputs": []
    },
    {
      "cell_type": "code",
      "metadata": {
        "id": "eLMYZZNC1tVE",
        "colab_type": "code",
        "colab": {}
      },
      "source": [
        ""
      ],
      "execution_count": null,
      "outputs": []
    }
  ]
}