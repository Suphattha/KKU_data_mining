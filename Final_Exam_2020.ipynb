{
  "nbformat": 4,
  "nbformat_minor": 0,
  "metadata": {
    "colab": {
      "name": "Final Exam 2020.ipynb",
      "provenance": [],
      "include_colab_link": true
    },
    "kernelspec": {
      "name": "python3",
      "display_name": "Python 3"
    }
  },
  "cells": [
    {
      "cell_type": "markdown",
      "metadata": {
        "id": "view-in-github",
        "colab_type": "text"
      },
      "source": [
        "<a href=\"https://colab.research.google.com/github/Suphattha/KKU_data_mining/blob/master/Final_Exam_2020.ipynb\" target=\"_parent\"><img src=\"https://colab.research.google.com/assets/colab-badge.svg\" alt=\"Open In Colab\"/></a>"
      ]
    },
    {
      "cell_type": "markdown",
      "metadata": {
        "id": "APlaB9l9CeBy"
      },
      "source": [
        "1. จากข้อมูล (```w_restaurant.csv```, ```search_click.csv```, ```search_request.csv```) ใน http://qr.tebs.io/6zqwEf สร้าง model เพื่อทำนาย (Classification) ว่าผลการ search เป็นร้านอาหารหรือไม่(```is_food = = True```) โดยพิจารณาจาก \n",
        "- วันในสัปดาห์ที่ทำการ search (```Monday-Sunday```) \n",
        "- วันในที่ทำการ search (```1-31```)\n",
        "- เวลาที่ทำการ search (```1-24```)\n",
        "\n",
        "หมายเหตุที่ 1 สามารถใช้ function ที่ให้มาช่วยในการทำงานได้\n",
        "1. ```extract_time()``` ซึ่ง input เป็น ```timestamp``` และ output เป็น ```เวลาที่ทำการ search``` ```วันในที่ทำการ search``` ```วันในสัปดาห์ที่ทำการ search```\n",
        "\n",
        "2. ```is_food``` ซึ่ง input เป็น ```category_name``` และ ```output``` เป็น คำตอบว่า ```เป็นร้านอาหารหรือไม่```\n",
        "\n",
        "หมายเหตุที่ 2 ควรเตรียมข้อมูลโดยรวมข้อมูลจาก ตาราง ```w_restaurant.csv```, ```search_click.csv```, ```search_request.csv``` ให้ได้ในรูปแบบ ต่อไปนี้\n",
        "![exam_table.PNG](data:image/png;base64,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)\n",
        "\n",
        "(200 คะแนน)"
      ]
    },
    {
      "cell_type": "code",
      "metadata": {
        "id": "k3uV3_-LLdLs"
      },
      "source": [
        "import pandas"
      ],
      "execution_count": 4,
      "outputs": []
    },
    {
      "cell_type": "code",
      "metadata": {
        "id": "zOo032w3DRRF",
        "outputId": "b4c80d53-f668-4dff-ce43-23c63d5d2a16",
        "colab": {
          "base_uri": "https://localhost:8080/"
        }
      },
      "source": [
        "from google.colab import drive\n",
        "drive.mount('/content/drive')\n",
        "\n",
        "path = '/content/drive/My Drive/DWDM_material'"
      ],
      "execution_count": 5,
      "outputs": [
        {
          "output_type": "stream",
          "text": [
            "Drive already mounted at /content/drive; to attempt to forcibly remount, call drive.mount(\"/content/drive\", force_remount=True).\n"
          ],
          "name": "stdout"
        }
      ]
    },
    {
      "cell_type": "code",
      "metadata": {
        "id": "-MB8VqZBDfvs"
      },
      "source": [
        "import os"
      ],
      "execution_count": 6,
      "outputs": []
    },
    {
      "cell_type": "code",
      "metadata": {
        "id": "JPlHQOS-DgZ9"
      },
      "source": [
        "search_click = os.path.join(path,'search_click.csv')\n",
        "w_restaurant = os.path.join(path,'w_restaurant.csv')\n",
        "search_request = os.path.join(path,'search_request.csv')"
      ],
      "execution_count": 7,
      "outputs": []
    },
    {
      "cell_type": "markdown",
      "metadata": {
        "id": "cBkhoRcYMOxi"
      },
      "source": [
        "##Then use pandas to load the data into the environment"
      ]
    },
    {
      "cell_type": "code",
      "metadata": {
        "id": "4JOMSHEVDgcX",
        "outputId": "acbd9edc-c4a2-4a15-ce25-da2011cdf534",
        "colab": {
          "base_uri": "https://localhost:8080/",
          "height": 378
        }
      },
      "source": [
        "w_restaurant_df = pandas.read_csv(w_restaurant)\n",
        "w_restaurant_df.head()"
      ],
      "execution_count": 8,
      "outputs": [
        {
          "output_type": "execute_result",
          "data": {
            "text/html": [
              "<div>\n",
              "<style scoped>\n",
              "    .dataframe tbody tr th:only-of-type {\n",
              "        vertical-align: middle;\n",
              "    }\n",
              "\n",
              "    .dataframe tbody tr th {\n",
              "        vertical-align: top;\n",
              "    }\n",
              "\n",
              "    .dataframe thead th {\n",
              "        text-align: right;\n",
              "    }\n",
              "</style>\n",
              "<table border=\"1\" class=\"dataframe\">\n",
              "  <thead>\n",
              "    <tr style=\"text-align: right;\">\n",
              "      <th></th>\n",
              "      <th>id</th>\n",
              "      <th>name</th>\n",
              "      <th>domain_id</th>\n",
              "      <th>closed</th>\n",
              "      <th>city_name</th>\n",
              "      <th>zipcode</th>\n",
              "      <th>geohash</th>\n",
              "      <th>new_open</th>\n",
              "      <th>weighted_average_rating</th>\n",
              "      <th>number_of_chains</th>\n",
              "      <th>number_of_bookmarks</th>\n",
              "      <th>number_of_reviews</th>\n",
              "      <th>number_of_product_tags</th>\n",
              "      <th>total_number_of_views</th>\n",
              "      <th>number_of_checkins</th>\n",
              "      <th>number_of_menu_groups</th>\n",
              "      <th>number_of_menu_photos</th>\n",
              "      <th>category_name</th>\n",
              "      <th>price_range</th>\n",
              "      <th>avg_price</th>\n",
              "      <th>parking</th>\n",
              "      <th>credit_card_accepted</th>\n",
              "      <th>good_for_groups</th>\n",
              "      <th>good_for_kids</th>\n",
              "      <th>bookable</th>\n",
              "      <th>best_of_wongnai</th>\n",
              "      <th>wifi</th>\n",
              "      <th>number_of_seats</th>\n",
              "      <th>music_venue</th>\n",
              "      <th>hotel_restaurant</th>\n",
              "      <th>pet_friendly</th>\n",
              "      <th>delivery</th>\n",
              "    </tr>\n",
              "  </thead>\n",
              "  <tbody>\n",
              "    <tr>\n",
              "      <th>0</th>\n",
              "      <td>2</td>\n",
              "      <td>นครินทร์ทันตกรรม</td>\n",
              "      <td>2</td>\n",
              "      <td>0</td>\n",
              "      <td>Samut Songkhram</td>\n",
              "      <td>75000</td>\n",
              "      <td>w4rh7g3</td>\n",
              "      <td>0</td>\n",
              "      <td>5.000000</td>\n",
              "      <td>NaN</td>\n",
              "      <td>NaN</td>\n",
              "      <td>1</td>\n",
              "      <td>0</td>\n",
              "      <td>3016</td>\n",
              "      <td>0</td>\n",
              "      <td>0</td>\n",
              "      <td>0</td>\n",
              "      <td>Orthodontic</td>\n",
              "      <td>NaN</td>\n",
              "      <td>NaN</td>\n",
              "      <td>3.0</td>\n",
              "      <td>0.0</td>\n",
              "      <td>NaN</td>\n",
              "      <td>NaN</td>\n",
              "      <td>NaN</td>\n",
              "      <td>NaN</td>\n",
              "      <td>NaN</td>\n",
              "      <td>13.0</td>\n",
              "      <td>NaN</td>\n",
              "      <td>NaN</td>\n",
              "      <td>NaN</td>\n",
              "      <td>NaN</td>\n",
              "    </tr>\n",
              "    <tr>\n",
              "      <th>1</th>\n",
              "      <td>4</td>\n",
              "      <td>Corner House</td>\n",
              "      <td>1</td>\n",
              "      <td>0</td>\n",
              "      <td>Bangkok Metropolitan Region</td>\n",
              "      <td>12150</td>\n",
              "      <td>w4rx73h</td>\n",
              "      <td>0</td>\n",
              "      <td>2.000000</td>\n",
              "      <td>NaN</td>\n",
              "      <td>NaN</td>\n",
              "      <td>1</td>\n",
              "      <td>0</td>\n",
              "      <td>321</td>\n",
              "      <td>0</td>\n",
              "      <td>0</td>\n",
              "      <td>1</td>\n",
              "      <td>Quick Meal</td>\n",
              "      <td>1.0</td>\n",
              "      <td>NaN</td>\n",
              "      <td>1.0</td>\n",
              "      <td>NaN</td>\n",
              "      <td>NaN</td>\n",
              "      <td>NaN</td>\n",
              "      <td>NaN</td>\n",
              "      <td>NaN</td>\n",
              "      <td>NaN</td>\n",
              "      <td>NaN</td>\n",
              "      <td>NaN</td>\n",
              "      <td>NaN</td>\n",
              "      <td>NaN</td>\n",
              "      <td>NaN</td>\n",
              "    </tr>\n",
              "    <tr>\n",
              "      <th>2</th>\n",
              "      <td>5</td>\n",
              "      <td>วัดโลกยสุธาราม</td>\n",
              "      <td>4</td>\n",
              "      <td>0</td>\n",
              "      <td>Phra Nakhon Si Ayutthaya</td>\n",
              "      <td>13000</td>\n",
              "      <td>w4x98jk</td>\n",
              "      <td>0</td>\n",
              "      <td>4.000000</td>\n",
              "      <td>NaN</td>\n",
              "      <td>1.0</td>\n",
              "      <td>0</td>\n",
              "      <td>0</td>\n",
              "      <td>167</td>\n",
              "      <td>0</td>\n",
              "      <td>0</td>\n",
              "      <td>0</td>\n",
              "      <td>Historical/Religion</td>\n",
              "      <td>NaN</td>\n",
              "      <td>NaN</td>\n",
              "      <td>1.0</td>\n",
              "      <td>NaN</td>\n",
              "      <td>NaN</td>\n",
              "      <td>NaN</td>\n",
              "      <td>NaN</td>\n",
              "      <td>NaN</td>\n",
              "      <td>NaN</td>\n",
              "      <td>NaN</td>\n",
              "      <td>NaN</td>\n",
              "      <td>NaN</td>\n",
              "      <td>NaN</td>\n",
              "      <td>NaN</td>\n",
              "    </tr>\n",
              "    <tr>\n",
              "      <th>3</th>\n",
              "      <td>6</td>\n",
              "      <td>นันท์คาราโอเกะ</td>\n",
              "      <td>1</td>\n",
              "      <td>0</td>\n",
              "      <td>Bangkok Metropolitan Region</td>\n",
              "      <td>10700</td>\n",
              "      <td>w4rqw9q</td>\n",
              "      <td>0</td>\n",
              "      <td>0.000000</td>\n",
              "      <td>NaN</td>\n",
              "      <td>NaN</td>\n",
              "      <td>0</td>\n",
              "      <td>0</td>\n",
              "      <td>901</td>\n",
              "      <td>0</td>\n",
              "      <td>0</td>\n",
              "      <td>0</td>\n",
              "      <td>Karaoke</td>\n",
              "      <td>NaN</td>\n",
              "      <td>NaN</td>\n",
              "      <td>NaN</td>\n",
              "      <td>NaN</td>\n",
              "      <td>NaN</td>\n",
              "      <td>NaN</td>\n",
              "      <td>NaN</td>\n",
              "      <td>NaN</td>\n",
              "      <td>NaN</td>\n",
              "      <td>NaN</td>\n",
              "      <td>NaN</td>\n",
              "      <td>NaN</td>\n",
              "      <td>NaN</td>\n",
              "      <td>NaN</td>\n",
              "    </tr>\n",
              "    <tr>\n",
              "      <th>4</th>\n",
              "      <td>7</td>\n",
              "      <td>Buono Caffe</td>\n",
              "      <td>1</td>\n",
              "      <td>0</td>\n",
              "      <td>Bangkok Metropolitan Region</td>\n",
              "      <td>10220</td>\n",
              "      <td>w4rx4gd</td>\n",
              "      <td>0</td>\n",
              "      <td>3.738462</td>\n",
              "      <td>NaN</td>\n",
              "      <td>15.0</td>\n",
              "      <td>3</td>\n",
              "      <td>0</td>\n",
              "      <td>2360</td>\n",
              "      <td>1</td>\n",
              "      <td>0</td>\n",
              "      <td>2</td>\n",
              "      <td>Café/Coffee Shop</td>\n",
              "      <td>1.0</td>\n",
              "      <td>NaN</td>\n",
              "      <td>1.0</td>\n",
              "      <td>0.0</td>\n",
              "      <td>NaN</td>\n",
              "      <td>NaN</td>\n",
              "      <td>NaN</td>\n",
              "      <td>NaN</td>\n",
              "      <td>1.0</td>\n",
              "      <td>2.0</td>\n",
              "      <td>NaN</td>\n",
              "      <td>NaN</td>\n",
              "      <td>NaN</td>\n",
              "      <td>NaN</td>\n",
              "    </tr>\n",
              "  </tbody>\n",
              "</table>\n",
              "</div>"
            ],
            "text/plain": [
              "   id              name  domain_id  ...  hotel_restaurant pet_friendly delivery\n",
              "0   2  นครินทร์ทันตกรรม          2  ...               NaN          NaN      NaN\n",
              "1   4      Corner House          1  ...               NaN          NaN      NaN\n",
              "2   5    วัดโลกยสุธาราม          4  ...               NaN          NaN      NaN\n",
              "3   6    นันท์คาราโอเกะ          1  ...               NaN          NaN      NaN\n",
              "4   7       Buono Caffe          1  ...               NaN          NaN      NaN\n",
              "\n",
              "[5 rows x 32 columns]"
            ]
          },
          "metadata": {
            "tags": []
          },
          "execution_count": 8
        }
      ]
    },
    {
      "cell_type": "code",
      "metadata": {
        "id": "ZIV4avEsDf-3",
        "outputId": "bf140b88-02a5-4830-f6b5-1c4a3a5d70fe",
        "colab": {
          "base_uri": "https://localhost:8080/",
          "height": 202
        }
      },
      "source": [
        "search_click_df = pandas.read_csv(search_click)\n",
        "search_click_df.head()"
      ],
      "execution_count": 13,
      "outputs": [
        {
          "output_type": "execute_result",
          "data": {
            "text/html": [
              "<div>\n",
              "<style scoped>\n",
              "    .dataframe tbody tr th:only-of-type {\n",
              "        vertical-align: middle;\n",
              "    }\n",
              "\n",
              "    .dataframe tbody tr th {\n",
              "        vertical-align: top;\n",
              "    }\n",
              "\n",
              "    .dataframe thead th {\n",
              "        text-align: right;\n",
              "    }\n",
              "</style>\n",
              "<table border=\"1\" class=\"dataframe\">\n",
              "  <thead>\n",
              "    <tr style=\"text-align: right;\">\n",
              "      <th></th>\n",
              "      <th>click_timestamp</th>\n",
              "      <th>search_id</th>\n",
              "      <th>business_id</th>\n",
              "      <th>display_position</th>\n",
              "      <th>time_diff_nanos</th>\n",
              "      <th>ads</th>\n",
              "    </tr>\n",
              "  </thead>\n",
              "  <tbody>\n",
              "    <tr>\n",
              "      <th>0</th>\n",
              "      <td>11:38.9</td>\n",
              "      <td>5c004472-5ecc-4159-9698-9f329b8e26e1</td>\n",
              "      <td>298839.0</td>\n",
              "      <td>0</td>\n",
              "      <td>2.222400e+15</td>\n",
              "      <td>True</td>\n",
              "    </tr>\n",
              "    <tr>\n",
              "      <th>1</th>\n",
              "      <td>30:51.3</td>\n",
              "      <td>5f34eca0-c04e-4c10-b600-54aa447dbd8e</td>\n",
              "      <td>171372.0</td>\n",
              "      <td>0</td>\n",
              "      <td>4.608380e+14</td>\n",
              "      <td>True</td>\n",
              "    </tr>\n",
              "    <tr>\n",
              "      <th>2</th>\n",
              "      <td>32:09.6</td>\n",
              "      <td>8dc6d1f0-11f1-4239-9dd2-5c1674c81224</td>\n",
              "      <td>16157.0</td>\n",
              "      <td>0</td>\n",
              "      <td>2.581490e+15</td>\n",
              "      <td>True</td>\n",
              "    </tr>\n",
              "    <tr>\n",
              "      <th>3</th>\n",
              "      <td>00:59.8</td>\n",
              "      <td>1a5810e9-3d1f-44b9-9a2e-26ede21c524b</td>\n",
              "      <td>89741.0</td>\n",
              "      <td>1</td>\n",
              "      <td>1.404580e+15</td>\n",
              "      <td>True</td>\n",
              "    </tr>\n",
              "    <tr>\n",
              "      <th>4</th>\n",
              "      <td>23:36.8</td>\n",
              "      <td>6bc75e0d-fc65-471e-9926-ff6be6708639</td>\n",
              "      <td>189564.0</td>\n",
              "      <td>1</td>\n",
              "      <td>9.333590e+14</td>\n",
              "      <td>True</td>\n",
              "    </tr>\n",
              "  </tbody>\n",
              "</table>\n",
              "</div>"
            ],
            "text/plain": [
              "  click_timestamp                             search_id  ...  time_diff_nanos   ads\n",
              "0         11:38.9  5c004472-5ecc-4159-9698-9f329b8e26e1  ...     2.222400e+15  True\n",
              "1         30:51.3  5f34eca0-c04e-4c10-b600-54aa447dbd8e  ...     4.608380e+14  True\n",
              "2         32:09.6  8dc6d1f0-11f1-4239-9dd2-5c1674c81224  ...     2.581490e+15  True\n",
              "3         00:59.8  1a5810e9-3d1f-44b9-9a2e-26ede21c524b  ...     1.404580e+15  True\n",
              "4         23:36.8  6bc75e0d-fc65-471e-9926-ff6be6708639  ...     9.333590e+14  True\n",
              "\n",
              "[5 rows x 6 columns]"
            ]
          },
          "metadata": {
            "tags": []
          },
          "execution_count": 13
        }
      ]
    },
    {
      "cell_type": "code",
      "metadata": {
        "id": "VAuJKG-ODfzb",
        "outputId": "1fcb0abe-014e-467d-92f0-7dc2eb5c86e3",
        "colab": {
          "base_uri": "https://localhost:8080/"
        }
      },
      "source": [
        "search_click_df.shape"
      ],
      "execution_count": 15,
      "outputs": [
        {
          "output_type": "execute_result",
          "data": {
            "text/plain": [
              "(1048575, 6)"
            ]
          },
          "metadata": {
            "tags": []
          },
          "execution_count": 15
        }
      ]
    },
    {
      "cell_type": "code",
      "metadata": {
        "id": "xZSe8HSBDRV-",
        "outputId": "2a7b5720-a01f-4da8-8fa5-656c38ba286d",
        "colab": {
          "base_uri": "https://localhost:8080/"
        }
      },
      "source": [
        "w_restaurant_df.shape"
      ],
      "execution_count": 16,
      "outputs": [
        {
          "output_type": "execute_result",
          "data": {
            "text/plain": [
              "(246847, 32)"
            ]
          },
          "metadata": {
            "tags": []
          },
          "execution_count": 16
        }
      ]
    },
    {
      "cell_type": "markdown",
      "metadata": {
        "id": "7-sBsdgkNzuJ"
      },
      "source": [
        "##It seem everything is ok, let,s have fun with data\n",
        "0.Point to data in the table¶"
      ]
    },
    {
      "cell_type": "code",
      "metadata": {
        "id": "RLlkALSRDR6w",
        "outputId": "21455569-2965-4abe-d2d3-1feacdf044a2",
        "colab": {
          "base_uri": "https://localhost:8080/"
        }
      },
      "source": [
        "search_click_df['search_id']"
      ],
      "execution_count": 18,
      "outputs": [
        {
          "output_type": "execute_result",
          "data": {
            "text/plain": [
              "0          5c004472-5ecc-4159-9698-9f329b8e26e1\n",
              "1          5f34eca0-c04e-4c10-b600-54aa447dbd8e\n",
              "2          8dc6d1f0-11f1-4239-9dd2-5c1674c81224\n",
              "3          1a5810e9-3d1f-44b9-9a2e-26ede21c524b\n",
              "4          6bc75e0d-fc65-471e-9926-ff6be6708639\n",
              "                           ...                 \n",
              "1048570    99aab616-6fc5-4fbf-994b-4aebee7bb360\n",
              "1048571    d70a2c5d-ee94-4e4c-9f7c-c5faac6db12a\n",
              "1048572    4c1de7fe-300e-41aa-9d01-914344fc3753\n",
              "1048573    2ec0ddec-e450-4b98-9779-42b77aa7eda5\n",
              "1048574    5741d9cf-b9f1-441d-aa83-d2b0179bf874\n",
              "Name: search_id, Length: 1048575, dtype: object"
            ]
          },
          "metadata": {
            "tags": []
          },
          "execution_count": 18
        }
      ]
    },
    {
      "cell_type": "code",
      "metadata": {
        "id": "xqK9sL3JDR-d",
        "outputId": "e3914515-55c9-48e4-f32b-6b9f16734974",
        "colab": {
          "base_uri": "https://localhost:8080/",
          "height": 35
        }
      },
      "source": [
        "search_click_df['search_id'][0]"
      ],
      "execution_count": 19,
      "outputs": [
        {
          "output_type": "execute_result",
          "data": {
            "application/vnd.google.colaboratory.intrinsic+json": {
              "type": "string"
            },
            "text/plain": [
              "'5c004472-5ecc-4159-9698-9f329b8e26e1'"
            ]
          },
          "metadata": {
            "tags": []
          },
          "execution_count": 19
        }
      ]
    },
    {
      "cell_type": "code",
      "metadata": {
        "id": "7oGHDmL2DSVU",
        "outputId": "f4c02661-26a7-401a-e7fa-ec6caf9980c9",
        "colab": {
          "base_uri": "https://localhost:8080/",
          "height": 415
        }
      },
      "source": [
        "w_restaurant_df[['name','city_name','weighted_average_rating']]"
      ],
      "execution_count": 20,
      "outputs": [
        {
          "output_type": "execute_result",
          "data": {
            "text/html": [
              "<div>\n",
              "<style scoped>\n",
              "    .dataframe tbody tr th:only-of-type {\n",
              "        vertical-align: middle;\n",
              "    }\n",
              "\n",
              "    .dataframe tbody tr th {\n",
              "        vertical-align: top;\n",
              "    }\n",
              "\n",
              "    .dataframe thead th {\n",
              "        text-align: right;\n",
              "    }\n",
              "</style>\n",
              "<table border=\"1\" class=\"dataframe\">\n",
              "  <thead>\n",
              "    <tr style=\"text-align: right;\">\n",
              "      <th></th>\n",
              "      <th>name</th>\n",
              "      <th>city_name</th>\n",
              "      <th>weighted_average_rating</th>\n",
              "    </tr>\n",
              "  </thead>\n",
              "  <tbody>\n",
              "    <tr>\n",
              "      <th>0</th>\n",
              "      <td>นครินทร์ทันตกรรม</td>\n",
              "      <td>Samut Songkhram</td>\n",
              "      <td>5.000000</td>\n",
              "    </tr>\n",
              "    <tr>\n",
              "      <th>1</th>\n",
              "      <td>Corner House</td>\n",
              "      <td>Bangkok Metropolitan Region</td>\n",
              "      <td>2.000000</td>\n",
              "    </tr>\n",
              "    <tr>\n",
              "      <th>2</th>\n",
              "      <td>วัดโลกยสุธาราม</td>\n",
              "      <td>Phra Nakhon Si Ayutthaya</td>\n",
              "      <td>4.000000</td>\n",
              "    </tr>\n",
              "    <tr>\n",
              "      <th>3</th>\n",
              "      <td>นันท์คาราโอเกะ</td>\n",
              "      <td>Bangkok Metropolitan Region</td>\n",
              "      <td>0.000000</td>\n",
              "    </tr>\n",
              "    <tr>\n",
              "      <th>4</th>\n",
              "      <td>Buono Caffe</td>\n",
              "      <td>Bangkok Metropolitan Region</td>\n",
              "      <td>3.738462</td>\n",
              "    </tr>\n",
              "    <tr>\n",
              "      <th>...</th>\n",
              "      <td>...</td>\n",
              "      <td>...</td>\n",
              "      <td>...</td>\n",
              "    </tr>\n",
              "    <tr>\n",
              "      <th>246842</th>\n",
              "      <td>Sushi Tama</td>\n",
              "      <td>Bangkok Metropolitan Region</td>\n",
              "      <td>3.663522</td>\n",
              "    </tr>\n",
              "    <tr>\n",
              "      <th>246843</th>\n",
              "      <td>สะบายดี คาราโอเกะ</td>\n",
              "      <td>Bangkok Metropolitan Region</td>\n",
              "      <td>0.000000</td>\n",
              "    </tr>\n",
              "    <tr>\n",
              "      <th>246844</th>\n",
              "      <td>สเต็กแม่&amp;กาแฟลูก</td>\n",
              "      <td>Bangkok Metropolitan Region</td>\n",
              "      <td>4.000000</td>\n",
              "    </tr>\n",
              "    <tr>\n",
              "      <th>246845</th>\n",
              "      <td>Mom Made</td>\n",
              "      <td>Nakhon Si Thammarat</td>\n",
              "      <td>5.000000</td>\n",
              "    </tr>\n",
              "    <tr>\n",
              "      <th>246846</th>\n",
              "      <td>ก๋วยเตี๋ยวหมูน้ำตก ก๋วยเตี๋ยวเรือทอง</td>\n",
              "      <td>Suphan Buri</td>\n",
              "      <td>3.000000</td>\n",
              "    </tr>\n",
              "  </tbody>\n",
              "</table>\n",
              "<p>246847 rows × 3 columns</p>\n",
              "</div>"
            ],
            "text/plain": [
              "                                        name  ... weighted_average_rating\n",
              "0                           นครินทร์ทันตกรรม  ...                5.000000\n",
              "1                               Corner House  ...                2.000000\n",
              "2                             วัดโลกยสุธาราม  ...                4.000000\n",
              "3                             นันท์คาราโอเกะ  ...                0.000000\n",
              "4                                Buono Caffe  ...                3.738462\n",
              "...                                      ...  ...                     ...\n",
              "246842                            Sushi Tama  ...                3.663522\n",
              "246843                     สะบายดี คาราโอเกะ  ...                0.000000\n",
              "246844                      สเต็กแม่&กาแฟลูก  ...                4.000000\n",
              "246845                              Mom Made  ...                5.000000\n",
              "246846  ก๋วยเตี๋ยวหมูน้ำตก ก๋วยเตี๋ยวเรือทอง  ...                3.000000\n",
              "\n",
              "[246847 rows x 3 columns]"
            ]
          },
          "metadata": {
            "tags": []
          },
          "execution_count": 20
        }
      ]
    },
    {
      "cell_type": "code",
      "metadata": {
        "id": "ZrLgL1NqDSXR",
        "outputId": "2592daac-dbae-4feb-98e9-d76d34bdc172",
        "colab": {
          "base_uri": "https://localhost:8080/",
          "height": 35
        }
      },
      "source": [
        "search_click_df.iloc[0,1]"
      ],
      "execution_count": 21,
      "outputs": [
        {
          "output_type": "execute_result",
          "data": {
            "application/vnd.google.colaboratory.intrinsic+json": {
              "type": "string"
            },
            "text/plain": [
              "'5c004472-5ecc-4159-9698-9f329b8e26e1'"
            ]
          },
          "metadata": {
            "tags": []
          },
          "execution_count": 21
        }
      ]
    },
    {
      "cell_type": "code",
      "metadata": {
        "id": "IhFLzryHDSK4",
        "outputId": "9fe8c48b-9534-4fbb-c998-dd096de5e387",
        "colab": {
          "base_uri": "https://localhost:8080/",
          "height": 355
        }
      },
      "source": [
        "search_click_df.iloc[:10,:2]"
      ],
      "execution_count": 22,
      "outputs": [
        {
          "output_type": "execute_result",
          "data": {
            "text/html": [
              "<div>\n",
              "<style scoped>\n",
              "    .dataframe tbody tr th:only-of-type {\n",
              "        vertical-align: middle;\n",
              "    }\n",
              "\n",
              "    .dataframe tbody tr th {\n",
              "        vertical-align: top;\n",
              "    }\n",
              "\n",
              "    .dataframe thead th {\n",
              "        text-align: right;\n",
              "    }\n",
              "</style>\n",
              "<table border=\"1\" class=\"dataframe\">\n",
              "  <thead>\n",
              "    <tr style=\"text-align: right;\">\n",
              "      <th></th>\n",
              "      <th>click_timestamp</th>\n",
              "      <th>search_id</th>\n",
              "    </tr>\n",
              "  </thead>\n",
              "  <tbody>\n",
              "    <tr>\n",
              "      <th>0</th>\n",
              "      <td>11:38.9</td>\n",
              "      <td>5c004472-5ecc-4159-9698-9f329b8e26e1</td>\n",
              "    </tr>\n",
              "    <tr>\n",
              "      <th>1</th>\n",
              "      <td>30:51.3</td>\n",
              "      <td>5f34eca0-c04e-4c10-b600-54aa447dbd8e</td>\n",
              "    </tr>\n",
              "    <tr>\n",
              "      <th>2</th>\n",
              "      <td>32:09.6</td>\n",
              "      <td>8dc6d1f0-11f1-4239-9dd2-5c1674c81224</td>\n",
              "    </tr>\n",
              "    <tr>\n",
              "      <th>3</th>\n",
              "      <td>00:59.8</td>\n",
              "      <td>1a5810e9-3d1f-44b9-9a2e-26ede21c524b</td>\n",
              "    </tr>\n",
              "    <tr>\n",
              "      <th>4</th>\n",
              "      <td>23:36.8</td>\n",
              "      <td>6bc75e0d-fc65-471e-9926-ff6be6708639</td>\n",
              "    </tr>\n",
              "    <tr>\n",
              "      <th>5</th>\n",
              "      <td>48:16.7</td>\n",
              "      <td>92ea02ba-2c89-4efd-973c-e23526c531de</td>\n",
              "    </tr>\n",
              "    <tr>\n",
              "      <th>6</th>\n",
              "      <td>39:18.4</td>\n",
              "      <td>79d61918-fb3e-4181-99b6-7a7abddfcdb1</td>\n",
              "    </tr>\n",
              "    <tr>\n",
              "      <th>7</th>\n",
              "      <td>33:39.0</td>\n",
              "      <td>7f8b2b57-dea1-4fe1-84c8-5a7d63750e47</td>\n",
              "    </tr>\n",
              "    <tr>\n",
              "      <th>8</th>\n",
              "      <td>07:48.3</td>\n",
              "      <td>3d9217bb-3eae-42b5-8cf3-a756efae2cfa</td>\n",
              "    </tr>\n",
              "    <tr>\n",
              "      <th>9</th>\n",
              "      <td>41:25.4</td>\n",
              "      <td>a2cb0d41-6e1f-4169-9140-cb671fbb41dc</td>\n",
              "    </tr>\n",
              "  </tbody>\n",
              "</table>\n",
              "</div>"
            ],
            "text/plain": [
              "  click_timestamp                             search_id\n",
              "0         11:38.9  5c004472-5ecc-4159-9698-9f329b8e26e1\n",
              "1         30:51.3  5f34eca0-c04e-4c10-b600-54aa447dbd8e\n",
              "2         32:09.6  8dc6d1f0-11f1-4239-9dd2-5c1674c81224\n",
              "3         00:59.8  1a5810e9-3d1f-44b9-9a2e-26ede21c524b\n",
              "4         23:36.8  6bc75e0d-fc65-471e-9926-ff6be6708639\n",
              "5         48:16.7  92ea02ba-2c89-4efd-973c-e23526c531de\n",
              "6         39:18.4  79d61918-fb3e-4181-99b6-7a7abddfcdb1\n",
              "7         33:39.0  7f8b2b57-dea1-4fe1-84c8-5a7d63750e47\n",
              "8         07:48.3  3d9217bb-3eae-42b5-8cf3-a756efae2cfa\n",
              "9         41:25.4  a2cb0d41-6e1f-4169-9140-cb671fbb41dc"
            ]
          },
          "metadata": {
            "tags": []
          },
          "execution_count": 22
        }
      ]
    },
    {
      "cell_type": "markdown",
      "metadata": {
        "id": "SlmRxFSYOO4E"
      },
      "source": [
        "##Missing Values"
      ]
    },
    {
      "cell_type": "code",
      "metadata": {
        "id": "ZO22KxCmDR8r",
        "outputId": "6c712614-656b-4f84-9a43-227f968d1272",
        "colab": {
          "base_uri": "https://localhost:8080/",
          "height": 415
        }
      },
      "source": [
        "search_click_df.isnull()"
      ],
      "execution_count": 25,
      "outputs": [
        {
          "output_type": "execute_result",
          "data": {
            "text/html": [
              "<div>\n",
              "<style scoped>\n",
              "    .dataframe tbody tr th:only-of-type {\n",
              "        vertical-align: middle;\n",
              "    }\n",
              "\n",
              "    .dataframe tbody tr th {\n",
              "        vertical-align: top;\n",
              "    }\n",
              "\n",
              "    .dataframe thead th {\n",
              "        text-align: right;\n",
              "    }\n",
              "</style>\n",
              "<table border=\"1\" class=\"dataframe\">\n",
              "  <thead>\n",
              "    <tr style=\"text-align: right;\">\n",
              "      <th></th>\n",
              "      <th>click_timestamp</th>\n",
              "      <th>search_id</th>\n",
              "      <th>business_id</th>\n",
              "      <th>display_position</th>\n",
              "      <th>time_diff_nanos</th>\n",
              "      <th>ads</th>\n",
              "    </tr>\n",
              "  </thead>\n",
              "  <tbody>\n",
              "    <tr>\n",
              "      <th>0</th>\n",
              "      <td>False</td>\n",
              "      <td>False</td>\n",
              "      <td>False</td>\n",
              "      <td>False</td>\n",
              "      <td>False</td>\n",
              "      <td>False</td>\n",
              "    </tr>\n",
              "    <tr>\n",
              "      <th>1</th>\n",
              "      <td>False</td>\n",
              "      <td>False</td>\n",
              "      <td>False</td>\n",
              "      <td>False</td>\n",
              "      <td>False</td>\n",
              "      <td>False</td>\n",
              "    </tr>\n",
              "    <tr>\n",
              "      <th>2</th>\n",
              "      <td>False</td>\n",
              "      <td>False</td>\n",
              "      <td>False</td>\n",
              "      <td>False</td>\n",
              "      <td>False</td>\n",
              "      <td>False</td>\n",
              "    </tr>\n",
              "    <tr>\n",
              "      <th>3</th>\n",
              "      <td>False</td>\n",
              "      <td>False</td>\n",
              "      <td>False</td>\n",
              "      <td>False</td>\n",
              "      <td>False</td>\n",
              "      <td>False</td>\n",
              "    </tr>\n",
              "    <tr>\n",
              "      <th>4</th>\n",
              "      <td>False</td>\n",
              "      <td>False</td>\n",
              "      <td>False</td>\n",
              "      <td>False</td>\n",
              "      <td>False</td>\n",
              "      <td>False</td>\n",
              "    </tr>\n",
              "    <tr>\n",
              "      <th>...</th>\n",
              "      <td>...</td>\n",
              "      <td>...</td>\n",
              "      <td>...</td>\n",
              "      <td>...</td>\n",
              "      <td>...</td>\n",
              "      <td>...</td>\n",
              "    </tr>\n",
              "    <tr>\n",
              "      <th>1048570</th>\n",
              "      <td>False</td>\n",
              "      <td>False</td>\n",
              "      <td>False</td>\n",
              "      <td>False</td>\n",
              "      <td>False</td>\n",
              "      <td>False</td>\n",
              "    </tr>\n",
              "    <tr>\n",
              "      <th>1048571</th>\n",
              "      <td>False</td>\n",
              "      <td>False</td>\n",
              "      <td>False</td>\n",
              "      <td>False</td>\n",
              "      <td>False</td>\n",
              "      <td>False</td>\n",
              "    </tr>\n",
              "    <tr>\n",
              "      <th>1048572</th>\n",
              "      <td>False</td>\n",
              "      <td>False</td>\n",
              "      <td>False</td>\n",
              "      <td>False</td>\n",
              "      <td>False</td>\n",
              "      <td>False</td>\n",
              "    </tr>\n",
              "    <tr>\n",
              "      <th>1048573</th>\n",
              "      <td>False</td>\n",
              "      <td>False</td>\n",
              "      <td>False</td>\n",
              "      <td>False</td>\n",
              "      <td>False</td>\n",
              "      <td>False</td>\n",
              "    </tr>\n",
              "    <tr>\n",
              "      <th>1048574</th>\n",
              "      <td>False</td>\n",
              "      <td>False</td>\n",
              "      <td>False</td>\n",
              "      <td>False</td>\n",
              "      <td>False</td>\n",
              "      <td>False</td>\n",
              "    </tr>\n",
              "  </tbody>\n",
              "</table>\n",
              "<p>1048575 rows × 6 columns</p>\n",
              "</div>"
            ],
            "text/plain": [
              "         click_timestamp  search_id  ...  time_diff_nanos    ads\n",
              "0                  False      False  ...            False  False\n",
              "1                  False      False  ...            False  False\n",
              "2                  False      False  ...            False  False\n",
              "3                  False      False  ...            False  False\n",
              "4                  False      False  ...            False  False\n",
              "...                  ...        ...  ...              ...    ...\n",
              "1048570            False      False  ...            False  False\n",
              "1048571            False      False  ...            False  False\n",
              "1048572            False      False  ...            False  False\n",
              "1048573            False      False  ...            False  False\n",
              "1048574            False      False  ...            False  False\n",
              "\n",
              "[1048575 rows x 6 columns]"
            ]
          },
          "metadata": {
            "tags": []
          },
          "execution_count": 25
        }
      ]
    },
    {
      "cell_type": "code",
      "metadata": {
        "id": "3uOtfbaiDR4U",
        "outputId": "7dfd3f58-2068-41dc-abab-dce0b25e7185",
        "colab": {
          "base_uri": "https://localhost:8080/"
        }
      },
      "source": [
        "search_click_df.isnull().any()"
      ],
      "execution_count": 26,
      "outputs": [
        {
          "output_type": "execute_result",
          "data": {
            "text/plain": [
              "click_timestamp     False\n",
              "search_id            True\n",
              "business_id          True\n",
              "display_position    False\n",
              "time_diff_nanos     False\n",
              "ads                 False\n",
              "dtype: bool"
            ]
          },
          "metadata": {
            "tags": []
          },
          "execution_count": 26
        }
      ]
    },
    {
      "cell_type": "code",
      "metadata": {
        "id": "T-dC1IEeDRT0",
        "outputId": "2a0d3a5a-8e01-46c7-9464-12d96cc41c55",
        "colab": {
          "base_uri": "https://localhost:8080/"
        }
      },
      "source": [
        "search_click_df.isnull().any().any()"
      ],
      "execution_count": 27,
      "outputs": [
        {
          "output_type": "execute_result",
          "data": {
            "text/plain": [
              "True"
            ]
          },
          "metadata": {
            "tags": []
          },
          "execution_count": 27
        }
      ]
    },
    {
      "cell_type": "markdown",
      "metadata": {
        "id": "L3XoUPrIPCeT"
      },
      "source": [
        "##Handling missing values 1"
      ]
    },
    {
      "cell_type": "code",
      "metadata": {
        "id": "l4vkmc8KDQ_W"
      },
      "source": [
        "search_click_df_nm = search_click_df.dropna()"
      ],
      "execution_count": 28,
      "outputs": []
    },
    {
      "cell_type": "code",
      "metadata": {
        "id": "K8sqW5c2PGY-",
        "outputId": "b16715df-db8b-4b6b-aaff-c9a97642ae8e",
        "colab": {
          "base_uri": "https://localhost:8080/"
        }
      },
      "source": [
        "search_click_df_nm.isnull().any().any()"
      ],
      "execution_count": 29,
      "outputs": [
        {
          "output_type": "execute_result",
          "data": {
            "text/plain": [
              "False"
            ]
          },
          "metadata": {
            "tags": []
          },
          "execution_count": 29
        }
      ]
    },
    {
      "cell_type": "code",
      "metadata": {
        "id": "MUQxFD6cPGbZ",
        "outputId": "60eaba70-d028-4ddb-b70d-6180c6b98a5a",
        "colab": {
          "base_uri": "https://localhost:8080/"
        }
      },
      "source": [
        "print(search_click_df.shape) \n",
        "print(search_click_df_nm.shape)"
      ],
      "execution_count": 30,
      "outputs": [
        {
          "output_type": "stream",
          "text": [
            "(1048575, 6)\n",
            "(1048206, 6)\n"
          ],
          "name": "stdout"
        }
      ]
    },
    {
      "cell_type": "code",
      "metadata": {
        "id": "Sl6FAS_HPGut",
        "outputId": "1b97ada9-95dc-4fce-b8b0-386331a51a4b",
        "colab": {
          "base_uri": "https://localhost:8080/"
        }
      },
      "source": [
        "w_restaurant_df.isnull().any()"
      ],
      "execution_count": 31,
      "outputs": [
        {
          "output_type": "execute_result",
          "data": {
            "text/plain": [
              "id                         False\n",
              "name                       False\n",
              "domain_id                  False\n",
              "closed                     False\n",
              "city_name                  False\n",
              "zipcode                     True\n",
              "geohash                    False\n",
              "new_open                   False\n",
              "weighted_average_rating    False\n",
              "number_of_chains            True\n",
              "number_of_bookmarks         True\n",
              "number_of_reviews          False\n",
              "number_of_product_tags     False\n",
              "total_number_of_views      False\n",
              "number_of_checkins         False\n",
              "number_of_menu_groups      False\n",
              "number_of_menu_photos      False\n",
              "category_name              False\n",
              "price_range                 True\n",
              "avg_price                   True\n",
              "parking                     True\n",
              "credit_card_accepted        True\n",
              "good_for_groups             True\n",
              "good_for_kids               True\n",
              "bookable                    True\n",
              "best_of_wongnai             True\n",
              "wifi                        True\n",
              "number_of_seats             True\n",
              "music_venue                 True\n",
              "hotel_restaurant            True\n",
              "pet_friendly                True\n",
              "delivery                    True\n",
              "dtype: bool"
            ]
          },
          "metadata": {
            "tags": []
          },
          "execution_count": 31
        }
      ]
    },
    {
      "cell_type": "code",
      "metadata": {
        "id": "mS70CZdkPGOd",
        "outputId": "dc1a6f34-349d-43fc-e781-a07db8fb0ee9",
        "colab": {
          "base_uri": "https://localhost:8080/"
        }
      },
      "source": [
        "w_restaurant_df.dropna(subset=['id','name','price_range']).shape"
      ],
      "execution_count": 32,
      "outputs": [
        {
          "output_type": "execute_result",
          "data": {
            "text/plain": [
              "(180972, 32)"
            ]
          },
          "metadata": {
            "tags": []
          },
          "execution_count": 32
        }
      ]
    },
    {
      "cell_type": "code",
      "metadata": {
        "id": "xVpxExA7PGMV"
      },
      "source": [
        "w_restaurant_df[['numder_of_chains']] = w_restaurant_df[['number_of_chains']].fillna(0)"
      ],
      "execution_count": 33,
      "outputs": []
    },
    {
      "cell_type": "code",
      "metadata": {
        "id": "oNiq9OKQPrT8",
        "outputId": "8ac04822-e689-4da6-e440-e107868d0e19",
        "colab": {
          "base_uri": "https://localhost:8080/"
        }
      },
      "source": [
        "w_restaurant_df.isnull().any()"
      ],
      "execution_count": 34,
      "outputs": [
        {
          "output_type": "execute_result",
          "data": {
            "text/plain": [
              "id                         False\n",
              "name                       False\n",
              "domain_id                  False\n",
              "closed                     False\n",
              "city_name                  False\n",
              "zipcode                     True\n",
              "geohash                    False\n",
              "new_open                   False\n",
              "weighted_average_rating    False\n",
              "number_of_chains            True\n",
              "number_of_bookmarks         True\n",
              "number_of_reviews          False\n",
              "number_of_product_tags     False\n",
              "total_number_of_views      False\n",
              "number_of_checkins         False\n",
              "number_of_menu_groups      False\n",
              "number_of_menu_photos      False\n",
              "category_name              False\n",
              "price_range                 True\n",
              "avg_price                   True\n",
              "parking                     True\n",
              "credit_card_accepted        True\n",
              "good_for_groups             True\n",
              "good_for_kids               True\n",
              "bookable                    True\n",
              "best_of_wongnai             True\n",
              "wifi                        True\n",
              "number_of_seats             True\n",
              "music_venue                 True\n",
              "hotel_restaurant            True\n",
              "pet_friendly                True\n",
              "delivery                    True\n",
              "numder_of_chains           False\n",
              "dtype: bool"
            ]
          },
          "metadata": {
            "tags": []
          },
          "execution_count": 34
        }
      ]
    },
    {
      "cell_type": "code",
      "metadata": {
        "id": "mQeIJJs7Prig",
        "outputId": "5603350f-7fba-4802-9528-aeca827da36b",
        "colab": {
          "base_uri": "https://localhost:8080/",
          "height": 415
        }
      },
      "source": [
        "w_restaurant_df[['name','city_name','avg_price']]"
      ],
      "execution_count": 35,
      "outputs": [
        {
          "output_type": "execute_result",
          "data": {
            "text/html": [
              "<div>\n",
              "<style scoped>\n",
              "    .dataframe tbody tr th:only-of-type {\n",
              "        vertical-align: middle;\n",
              "    }\n",
              "\n",
              "    .dataframe tbody tr th {\n",
              "        vertical-align: top;\n",
              "    }\n",
              "\n",
              "    .dataframe thead th {\n",
              "        text-align: right;\n",
              "    }\n",
              "</style>\n",
              "<table border=\"1\" class=\"dataframe\">\n",
              "  <thead>\n",
              "    <tr style=\"text-align: right;\">\n",
              "      <th></th>\n",
              "      <th>name</th>\n",
              "      <th>city_name</th>\n",
              "      <th>avg_price</th>\n",
              "    </tr>\n",
              "  </thead>\n",
              "  <tbody>\n",
              "    <tr>\n",
              "      <th>0</th>\n",
              "      <td>นครินทร์ทันตกรรม</td>\n",
              "      <td>Samut Songkhram</td>\n",
              "      <td>NaN</td>\n",
              "    </tr>\n",
              "    <tr>\n",
              "      <th>1</th>\n",
              "      <td>Corner House</td>\n",
              "      <td>Bangkok Metropolitan Region</td>\n",
              "      <td>NaN</td>\n",
              "    </tr>\n",
              "    <tr>\n",
              "      <th>2</th>\n",
              "      <td>วัดโลกยสุธาราม</td>\n",
              "      <td>Phra Nakhon Si Ayutthaya</td>\n",
              "      <td>NaN</td>\n",
              "    </tr>\n",
              "    <tr>\n",
              "      <th>3</th>\n",
              "      <td>นันท์คาราโอเกะ</td>\n",
              "      <td>Bangkok Metropolitan Region</td>\n",
              "      <td>NaN</td>\n",
              "    </tr>\n",
              "    <tr>\n",
              "      <th>4</th>\n",
              "      <td>Buono Caffe</td>\n",
              "      <td>Bangkok Metropolitan Region</td>\n",
              "      <td>NaN</td>\n",
              "    </tr>\n",
              "    <tr>\n",
              "      <th>...</th>\n",
              "      <td>...</td>\n",
              "      <td>...</td>\n",
              "      <td>...</td>\n",
              "    </tr>\n",
              "    <tr>\n",
              "      <th>246842</th>\n",
              "      <td>Sushi Tama</td>\n",
              "      <td>Bangkok Metropolitan Region</td>\n",
              "      <td>NaN</td>\n",
              "    </tr>\n",
              "    <tr>\n",
              "      <th>246843</th>\n",
              "      <td>สะบายดี คาราโอเกะ</td>\n",
              "      <td>Bangkok Metropolitan Region</td>\n",
              "      <td>NaN</td>\n",
              "    </tr>\n",
              "    <tr>\n",
              "      <th>246844</th>\n",
              "      <td>สเต็กแม่&amp;กาแฟลูก</td>\n",
              "      <td>Bangkok Metropolitan Region</td>\n",
              "      <td>NaN</td>\n",
              "    </tr>\n",
              "    <tr>\n",
              "      <th>246845</th>\n",
              "      <td>Mom Made</td>\n",
              "      <td>Nakhon Si Thammarat</td>\n",
              "      <td>NaN</td>\n",
              "    </tr>\n",
              "    <tr>\n",
              "      <th>246846</th>\n",
              "      <td>ก๋วยเตี๋ยวหมูน้ำตก ก๋วยเตี๋ยวเรือทอง</td>\n",
              "      <td>Suphan Buri</td>\n",
              "      <td>NaN</td>\n",
              "    </tr>\n",
              "  </tbody>\n",
              "</table>\n",
              "<p>246847 rows × 3 columns</p>\n",
              "</div>"
            ],
            "text/plain": [
              "                                        name  ... avg_price\n",
              "0                           นครินทร์ทันตกรรม  ...       NaN\n",
              "1                               Corner House  ...       NaN\n",
              "2                             วัดโลกยสุธาราม  ...       NaN\n",
              "3                             นันท์คาราโอเกะ  ...       NaN\n",
              "4                                Buono Caffe  ...       NaN\n",
              "...                                      ...  ...       ...\n",
              "246842                            Sushi Tama  ...       NaN\n",
              "246843                     สะบายดี คาราโอเกะ  ...       NaN\n",
              "246844                      สเต็กแม่&กาแฟลูก  ...       NaN\n",
              "246845                              Mom Made  ...       NaN\n",
              "246846  ก๋วยเตี๋ยวหมูน้ำตก ก๋วยเตี๋ยวเรือทอง  ...       NaN\n",
              "\n",
              "[246847 rows x 3 columns]"
            ]
          },
          "metadata": {
            "tags": []
          },
          "execution_count": 35
        }
      ]
    },
    {
      "cell_type": "code",
      "metadata": {
        "id": "COvmleGMYfdl",
        "outputId": "5bb90114-3f71-458d-b8ea-6e6329419fdf",
        "colab": {
          "base_uri": "https://localhost:8080/"
        }
      },
      "source": [
        "selected_list = new_table['city_name']=='is_food'\n",
        "selected_list"
      ],
      "execution_count": 60,
      "outputs": [
        {
          "output_type": "execute_result",
          "data": {
            "text/plain": [
              "0         False\n",
              "1         False\n",
              "2         False\n",
              "3         False\n",
              "4         False\n",
              "          ...  \n",
              "246842    False\n",
              "246843    False\n",
              "246844    False\n",
              "246845    False\n",
              "246846    False\n",
              "Name: city_name, Length: 246847, dtype: bool"
            ]
          },
          "metadata": {
            "tags": []
          },
          "execution_count": 60
        }
      ]
    },
    {
      "cell_type": "code",
      "metadata": {
        "id": "thTMjvItYf7u",
        "outputId": "d066c1b4-e868-49c5-c4e7-334169af7b0e",
        "colab": {
          "base_uri": "https://localhost:8080/",
          "height": 49
        }
      },
      "source": [
        "new_table[selected_list].head()"
      ],
      "execution_count": 61,
      "outputs": [
        {
          "output_type": "execute_result",
          "data": {
            "text/html": [
              "<div>\n",
              "<style scoped>\n",
              "    .dataframe tbody tr th:only-of-type {\n",
              "        vertical-align: middle;\n",
              "    }\n",
              "\n",
              "    .dataframe tbody tr th {\n",
              "        vertical-align: top;\n",
              "    }\n",
              "\n",
              "    .dataframe thead th {\n",
              "        text-align: right;\n",
              "    }\n",
              "</style>\n",
              "<table border=\"1\" class=\"dataframe\">\n",
              "  <thead>\n",
              "    <tr style=\"text-align: right;\">\n",
              "      <th></th>\n",
              "      <th>name</th>\n",
              "      <th>city_name</th>\n",
              "      <th>avg_price</th>\n",
              "    </tr>\n",
              "  </thead>\n",
              "  <tbody>\n",
              "  </tbody>\n",
              "</table>\n",
              "</div>"
            ],
            "text/plain": [
              "Empty DataFrame\n",
              "Columns: [name, city_name, avg_price]\n",
              "Index: []"
            ]
          },
          "metadata": {
            "tags": []
          },
          "execution_count": 61
        }
      ]
    },
    {
      "cell_type": "markdown",
      "metadata": {
        "id": "vMAGsFJdXRw0"
      },
      "source": [
        "จะใช้คำสั่งให้ข้อมูลในตารางที่เป็น is_food ออกมาเป็น True"
      ]
    },
    {
      "cell_type": "code",
      "metadata": {
        "id": "bTi1-B2McSrt"
      },
      "source": [
        ""
      ],
      "execution_count": null,
      "outputs": []
    },
    {
      "cell_type": "code",
      "metadata": {
        "id": "hFBS2JH8cS_A"
      },
      "source": [
        ""
      ],
      "execution_count": null,
      "outputs": []
    },
    {
      "cell_type": "code",
      "metadata": {
        "id": "ZmUBf8GDcRio"
      },
      "source": [
        ""
      ],
      "execution_count": null,
      "outputs": []
    },
    {
      "cell_type": "code",
      "metadata": {
        "id": "S_9uolIkcRl0"
      },
      "source": [
        ""
      ],
      "execution_count": null,
      "outputs": []
    },
    {
      "cell_type": "code",
      "metadata": {
        "id": "Kl5nFLokcReQ"
      },
      "source": [
        ""
      ],
      "execution_count": null,
      "outputs": []
    },
    {
      "cell_type": "code",
      "metadata": {
        "id": "plSGUT9EDoF0"
      },
      "source": [
        "import datetime\n",
        "def extract_time(datetime_s):\n",
        "    EX_date = datetime.datetime.strptime(datetime_s, \"%Y-%m-%d %H:%M:%S.%f\")\n",
        "    return EX_date.hour, EX_date.day, get_day(EX_date.weekday()) \n",
        "\n",
        "def get_day(D):\n",
        "    weekdays = ['Monday','Tuesday','Wednesday','Thursday','Friday','Saturday','Sunday']\n",
        "    return weekdays[D] \n",
        "\n",
        "def is_food(inp):\n",
        "    food_list = ['Vegeterian','Sushi','Sukiyaki/Shabu','Street Food/Food Stands','Steak House/Barbeque','Southern Food','Seafood','Ramen','Quick Meal','Pizza','Northern Food','Noodles','Mexican','Korean',\n",
        "             'Japanese','Italian','Izakaya','Healthy Food','German Food','Fusion Food','French','Food Truck','Fastfood','Dim Sum','Delivery Only','Chinese','Cafe','Café/Coffee Shop','Buffet',\n",
        "             'Breakfast/Brunch','Bakery/Cake','Barbeque/Grill','American']\n",
        "    return inp in food_list"
      ],
      "execution_count": 62,
      "outputs": []
    },
    {
      "cell_type": "markdown",
      "metadata": {
        "id": "hb7_ccSniLJU"
      },
      "source": [
        "##รวมข้อมูลจาก ตาราง w_restaurant.csv, search_click.csv, search_request.csv"
      ]
    },
    {
      "cell_type": "code",
      "metadata": {
        "id": "jUrxsbPNZv6v",
        "outputId": "bab6fffd-e40c-4d45-8349-ead776f1eac9",
        "colab": {
          "base_uri": "https://localhost:8080/"
        }
      },
      "source": [
        "file_path = os.path.join(path,'w_restaurant.csv, search_click.csv, search_request.csv')\n",
        "print(file_path)"
      ],
      "execution_count": 94,
      "outputs": [
        {
          "output_type": "stream",
          "text": [
            "/content/drive/My Drive/DWDM_material/w_restaurant.csv, search_click.csv, search_request.csv\n"
          ],
          "name": "stdout"
        }
      ]
    },
    {
      "cell_type": "code",
      "metadata": {
        "id": "6dSEtlKkmTo9",
        "outputId": "8fd0a7ce-5ced-421d-c42f-21186156450f",
        "colab": {
          "base_uri": "https://localhost:8080/",
          "height": 433
        }
      },
      "source": [
        "import os\n",
        "import pandas as pd\n",
        "base_path = '/content/drive/My Drive/DWDM_material'\n",
        "data = pd.read_csv(os.path.join(base_path,'w_restaurant.csv, search_click.csv, search_request.csv'))\n",
        "data.head()"
      ],
      "execution_count": 96,
      "outputs": [
        {
          "output_type": "error",
          "ename": "FileNotFoundError",
          "evalue": "ignored",
          "traceback": [
            "\u001b[0;31m---------------------------------------------------------------------------\u001b[0m",
            "\u001b[0;31mFileNotFoundError\u001b[0m                         Traceback (most recent call last)",
            "\u001b[0;32m<ipython-input-96-85744856d75d>\u001b[0m in \u001b[0;36m<module>\u001b[0;34m()\u001b[0m\n\u001b[1;32m      2\u001b[0m \u001b[0;32mimport\u001b[0m \u001b[0mpandas\u001b[0m \u001b[0;32mas\u001b[0m \u001b[0mpd\u001b[0m\u001b[0;34m\u001b[0m\u001b[0;34m\u001b[0m\u001b[0m\n\u001b[1;32m      3\u001b[0m \u001b[0mbase_path\u001b[0m \u001b[0;34m=\u001b[0m \u001b[0;34m'/content/drive/My Drive/DWDM_material'\u001b[0m\u001b[0;34m\u001b[0m\u001b[0;34m\u001b[0m\u001b[0m\n\u001b[0;32m----> 4\u001b[0;31m \u001b[0mdata\u001b[0m \u001b[0;34m=\u001b[0m \u001b[0mpd\u001b[0m\u001b[0;34m.\u001b[0m\u001b[0mread_csv\u001b[0m\u001b[0;34m(\u001b[0m\u001b[0mos\u001b[0m\u001b[0;34m.\u001b[0m\u001b[0mpath\u001b[0m\u001b[0;34m.\u001b[0m\u001b[0mjoin\u001b[0m\u001b[0;34m(\u001b[0m\u001b[0mbase_path\u001b[0m\u001b[0;34m,\u001b[0m\u001b[0;34m'w_restaurant.csv, search_click.csv, search_request.csv'\u001b[0m\u001b[0;34m)\u001b[0m\u001b[0;34m)\u001b[0m\u001b[0;34m\u001b[0m\u001b[0;34m\u001b[0m\u001b[0m\n\u001b[0m\u001b[1;32m      5\u001b[0m \u001b[0mdata\u001b[0m\u001b[0;34m.\u001b[0m\u001b[0mhead\u001b[0m\u001b[0;34m(\u001b[0m\u001b[0;34m)\u001b[0m\u001b[0;34m\u001b[0m\u001b[0;34m\u001b[0m\u001b[0m\n",
            "\u001b[0;32m/usr/local/lib/python3.6/dist-packages/pandas/io/parsers.py\u001b[0m in \u001b[0;36mread_csv\u001b[0;34m(filepath_or_buffer, sep, delimiter, header, names, index_col, usecols, squeeze, prefix, mangle_dupe_cols, dtype, engine, converters, true_values, false_values, skipinitialspace, skiprows, skipfooter, nrows, na_values, keep_default_na, na_filter, verbose, skip_blank_lines, parse_dates, infer_datetime_format, keep_date_col, date_parser, dayfirst, cache_dates, iterator, chunksize, compression, thousands, decimal, lineterminator, quotechar, quoting, doublequote, escapechar, comment, encoding, dialect, error_bad_lines, warn_bad_lines, delim_whitespace, low_memory, memory_map, float_precision)\u001b[0m\n\u001b[1;32m    686\u001b[0m     )\n\u001b[1;32m    687\u001b[0m \u001b[0;34m\u001b[0m\u001b[0m\n\u001b[0;32m--> 688\u001b[0;31m     \u001b[0;32mreturn\u001b[0m \u001b[0m_read\u001b[0m\u001b[0;34m(\u001b[0m\u001b[0mfilepath_or_buffer\u001b[0m\u001b[0;34m,\u001b[0m \u001b[0mkwds\u001b[0m\u001b[0;34m)\u001b[0m\u001b[0;34m\u001b[0m\u001b[0;34m\u001b[0m\u001b[0m\n\u001b[0m\u001b[1;32m    689\u001b[0m \u001b[0;34m\u001b[0m\u001b[0m\n\u001b[1;32m    690\u001b[0m \u001b[0;34m\u001b[0m\u001b[0m\n",
            "\u001b[0;32m/usr/local/lib/python3.6/dist-packages/pandas/io/parsers.py\u001b[0m in \u001b[0;36m_read\u001b[0;34m(filepath_or_buffer, kwds)\u001b[0m\n\u001b[1;32m    452\u001b[0m \u001b[0;34m\u001b[0m\u001b[0m\n\u001b[1;32m    453\u001b[0m     \u001b[0;31m# Create the parser.\u001b[0m\u001b[0;34m\u001b[0m\u001b[0;34m\u001b[0m\u001b[0;34m\u001b[0m\u001b[0m\n\u001b[0;32m--> 454\u001b[0;31m     \u001b[0mparser\u001b[0m \u001b[0;34m=\u001b[0m \u001b[0mTextFileReader\u001b[0m\u001b[0;34m(\u001b[0m\u001b[0mfp_or_buf\u001b[0m\u001b[0;34m,\u001b[0m \u001b[0;34m**\u001b[0m\u001b[0mkwds\u001b[0m\u001b[0;34m)\u001b[0m\u001b[0;34m\u001b[0m\u001b[0;34m\u001b[0m\u001b[0m\n\u001b[0m\u001b[1;32m    455\u001b[0m \u001b[0;34m\u001b[0m\u001b[0m\n\u001b[1;32m    456\u001b[0m     \u001b[0;32mif\u001b[0m \u001b[0mchunksize\u001b[0m \u001b[0;32mor\u001b[0m \u001b[0miterator\u001b[0m\u001b[0;34m:\u001b[0m\u001b[0;34m\u001b[0m\u001b[0;34m\u001b[0m\u001b[0m\n",
            "\u001b[0;32m/usr/local/lib/python3.6/dist-packages/pandas/io/parsers.py\u001b[0m in \u001b[0;36m__init__\u001b[0;34m(self, f, engine, **kwds)\u001b[0m\n\u001b[1;32m    946\u001b[0m             \u001b[0mself\u001b[0m\u001b[0;34m.\u001b[0m\u001b[0moptions\u001b[0m\u001b[0;34m[\u001b[0m\u001b[0;34m\"has_index_names\"\u001b[0m\u001b[0;34m]\u001b[0m \u001b[0;34m=\u001b[0m \u001b[0mkwds\u001b[0m\u001b[0;34m[\u001b[0m\u001b[0;34m\"has_index_names\"\u001b[0m\u001b[0;34m]\u001b[0m\u001b[0;34m\u001b[0m\u001b[0;34m\u001b[0m\u001b[0m\n\u001b[1;32m    947\u001b[0m \u001b[0;34m\u001b[0m\u001b[0m\n\u001b[0;32m--> 948\u001b[0;31m         \u001b[0mself\u001b[0m\u001b[0;34m.\u001b[0m\u001b[0m_make_engine\u001b[0m\u001b[0;34m(\u001b[0m\u001b[0mself\u001b[0m\u001b[0;34m.\u001b[0m\u001b[0mengine\u001b[0m\u001b[0;34m)\u001b[0m\u001b[0;34m\u001b[0m\u001b[0;34m\u001b[0m\u001b[0m\n\u001b[0m\u001b[1;32m    949\u001b[0m \u001b[0;34m\u001b[0m\u001b[0m\n\u001b[1;32m    950\u001b[0m     \u001b[0;32mdef\u001b[0m \u001b[0mclose\u001b[0m\u001b[0;34m(\u001b[0m\u001b[0mself\u001b[0m\u001b[0;34m)\u001b[0m\u001b[0;34m:\u001b[0m\u001b[0;34m\u001b[0m\u001b[0;34m\u001b[0m\u001b[0m\n",
            "\u001b[0;32m/usr/local/lib/python3.6/dist-packages/pandas/io/parsers.py\u001b[0m in \u001b[0;36m_make_engine\u001b[0;34m(self, engine)\u001b[0m\n\u001b[1;32m   1178\u001b[0m     \u001b[0;32mdef\u001b[0m \u001b[0m_make_engine\u001b[0m\u001b[0;34m(\u001b[0m\u001b[0mself\u001b[0m\u001b[0;34m,\u001b[0m \u001b[0mengine\u001b[0m\u001b[0;34m=\u001b[0m\u001b[0;34m\"c\"\u001b[0m\u001b[0;34m)\u001b[0m\u001b[0;34m:\u001b[0m\u001b[0;34m\u001b[0m\u001b[0;34m\u001b[0m\u001b[0m\n\u001b[1;32m   1179\u001b[0m         \u001b[0;32mif\u001b[0m \u001b[0mengine\u001b[0m \u001b[0;34m==\u001b[0m \u001b[0;34m\"c\"\u001b[0m\u001b[0;34m:\u001b[0m\u001b[0;34m\u001b[0m\u001b[0;34m\u001b[0m\u001b[0m\n\u001b[0;32m-> 1180\u001b[0;31m             \u001b[0mself\u001b[0m\u001b[0;34m.\u001b[0m\u001b[0m_engine\u001b[0m \u001b[0;34m=\u001b[0m \u001b[0mCParserWrapper\u001b[0m\u001b[0;34m(\u001b[0m\u001b[0mself\u001b[0m\u001b[0;34m.\u001b[0m\u001b[0mf\u001b[0m\u001b[0;34m,\u001b[0m \u001b[0;34m**\u001b[0m\u001b[0mself\u001b[0m\u001b[0;34m.\u001b[0m\u001b[0moptions\u001b[0m\u001b[0;34m)\u001b[0m\u001b[0;34m\u001b[0m\u001b[0;34m\u001b[0m\u001b[0m\n\u001b[0m\u001b[1;32m   1181\u001b[0m         \u001b[0;32melse\u001b[0m\u001b[0;34m:\u001b[0m\u001b[0;34m\u001b[0m\u001b[0;34m\u001b[0m\u001b[0m\n\u001b[1;32m   1182\u001b[0m             \u001b[0;32mif\u001b[0m \u001b[0mengine\u001b[0m \u001b[0;34m==\u001b[0m \u001b[0;34m\"python\"\u001b[0m\u001b[0;34m:\u001b[0m\u001b[0;34m\u001b[0m\u001b[0;34m\u001b[0m\u001b[0m\n",
            "\u001b[0;32m/usr/local/lib/python3.6/dist-packages/pandas/io/parsers.py\u001b[0m in \u001b[0;36m__init__\u001b[0;34m(self, src, **kwds)\u001b[0m\n\u001b[1;32m   2008\u001b[0m         \u001b[0mkwds\u001b[0m\u001b[0;34m[\u001b[0m\u001b[0;34m\"usecols\"\u001b[0m\u001b[0;34m]\u001b[0m \u001b[0;34m=\u001b[0m \u001b[0mself\u001b[0m\u001b[0;34m.\u001b[0m\u001b[0musecols\u001b[0m\u001b[0;34m\u001b[0m\u001b[0;34m\u001b[0m\u001b[0m\n\u001b[1;32m   2009\u001b[0m \u001b[0;34m\u001b[0m\u001b[0m\n\u001b[0;32m-> 2010\u001b[0;31m         \u001b[0mself\u001b[0m\u001b[0;34m.\u001b[0m\u001b[0m_reader\u001b[0m \u001b[0;34m=\u001b[0m \u001b[0mparsers\u001b[0m\u001b[0;34m.\u001b[0m\u001b[0mTextReader\u001b[0m\u001b[0;34m(\u001b[0m\u001b[0msrc\u001b[0m\u001b[0;34m,\u001b[0m \u001b[0;34m**\u001b[0m\u001b[0mkwds\u001b[0m\u001b[0;34m)\u001b[0m\u001b[0;34m\u001b[0m\u001b[0;34m\u001b[0m\u001b[0m\n\u001b[0m\u001b[1;32m   2011\u001b[0m         \u001b[0mself\u001b[0m\u001b[0;34m.\u001b[0m\u001b[0munnamed_cols\u001b[0m \u001b[0;34m=\u001b[0m \u001b[0mself\u001b[0m\u001b[0;34m.\u001b[0m\u001b[0m_reader\u001b[0m\u001b[0;34m.\u001b[0m\u001b[0munnamed_cols\u001b[0m\u001b[0;34m\u001b[0m\u001b[0;34m\u001b[0m\u001b[0m\n\u001b[1;32m   2012\u001b[0m \u001b[0;34m\u001b[0m\u001b[0m\n",
            "\u001b[0;32mpandas/_libs/parsers.pyx\u001b[0m in \u001b[0;36mpandas._libs.parsers.TextReader.__cinit__\u001b[0;34m()\u001b[0m\n",
            "\u001b[0;32mpandas/_libs/parsers.pyx\u001b[0m in \u001b[0;36mpandas._libs.parsers.TextReader._setup_parser_source\u001b[0;34m()\u001b[0m\n",
            "\u001b[0;31mFileNotFoundError\u001b[0m: [Errno 2] No such file or directory: '/content/drive/My Drive/DWDM_material/w_restaurant.csv, search_click.csv, search_request.csv'"
          ]
        }
      ]
    },
    {
      "cell_type": "code",
      "metadata": {
        "id": "REG5QC-aZvTe",
        "outputId": "d8246e2d-8732-4602-e345-5611d64405e4",
        "colab": {
          "base_uri": "https://localhost:8080/",
          "height": 287
        }
      },
      "source": [
        "print(w_restaurant.csv, search_click.csv, search_request.csv)"
      ],
      "execution_count": 92,
      "outputs": [
        {
          "output_type": "error",
          "ename": "AttributeError",
          "evalue": "ignored",
          "traceback": [
            "\u001b[0;31m---------------------------------------------------------------------------\u001b[0m",
            "\u001b[0;31mAttributeError\u001b[0m                            Traceback (most recent call last)",
            "\u001b[0;32m<ipython-input-92-607c848901eb>\u001b[0m in \u001b[0;36m<module>\u001b[0;34m()\u001b[0m\n\u001b[0;32m----> 1\u001b[0;31m \u001b[0mprint\u001b[0m\u001b[0;34m(\u001b[0m\u001b[0mw_restaurant\u001b[0m\u001b[0;34m.\u001b[0m\u001b[0mcsv\u001b[0m\u001b[0;34m,\u001b[0m \u001b[0msearch_click\u001b[0m\u001b[0;34m.\u001b[0m\u001b[0mcsv\u001b[0m\u001b[0;34m,\u001b[0m \u001b[0msearch_request\u001b[0m\u001b[0;34m.\u001b[0m\u001b[0mcsv\u001b[0m\u001b[0;34m)\u001b[0m\u001b[0;34m\u001b[0m\u001b[0;34m\u001b[0m\u001b[0m\n\u001b[0m",
            "\u001b[0;32m/usr/local/lib/python3.6/dist-packages/pandas/core/generic.py\u001b[0m in \u001b[0;36m__getattr__\u001b[0;34m(self, name)\u001b[0m\n\u001b[1;32m   5137\u001b[0m             \u001b[0;32mif\u001b[0m \u001b[0mself\u001b[0m\u001b[0;34m.\u001b[0m\u001b[0m_info_axis\u001b[0m\u001b[0;34m.\u001b[0m\u001b[0m_can_hold_identifiers_and_holds_name\u001b[0m\u001b[0;34m(\u001b[0m\u001b[0mname\u001b[0m\u001b[0;34m)\u001b[0m\u001b[0;34m:\u001b[0m\u001b[0;34m\u001b[0m\u001b[0;34m\u001b[0m\u001b[0m\n\u001b[1;32m   5138\u001b[0m                 \u001b[0;32mreturn\u001b[0m \u001b[0mself\u001b[0m\u001b[0;34m[\u001b[0m\u001b[0mname\u001b[0m\u001b[0;34m]\u001b[0m\u001b[0;34m\u001b[0m\u001b[0;34m\u001b[0m\u001b[0m\n\u001b[0;32m-> 5139\u001b[0;31m             \u001b[0;32mreturn\u001b[0m \u001b[0mobject\u001b[0m\u001b[0;34m.\u001b[0m\u001b[0m__getattribute__\u001b[0m\u001b[0;34m(\u001b[0m\u001b[0mself\u001b[0m\u001b[0;34m,\u001b[0m \u001b[0mname\u001b[0m\u001b[0;34m)\u001b[0m\u001b[0;34m\u001b[0m\u001b[0;34m\u001b[0m\u001b[0m\n\u001b[0m\u001b[1;32m   5140\u001b[0m \u001b[0;34m\u001b[0m\u001b[0m\n\u001b[1;32m   5141\u001b[0m     \u001b[0;32mdef\u001b[0m \u001b[0m__setattr__\u001b[0m\u001b[0;34m(\u001b[0m\u001b[0mself\u001b[0m\u001b[0;34m,\u001b[0m \u001b[0mname\u001b[0m\u001b[0;34m:\u001b[0m \u001b[0mstr\u001b[0m\u001b[0;34m,\u001b[0m \u001b[0mvalue\u001b[0m\u001b[0;34m)\u001b[0m \u001b[0;34m->\u001b[0m \u001b[0;32mNone\u001b[0m\u001b[0;34m:\u001b[0m\u001b[0;34m\u001b[0m\u001b[0;34m\u001b[0m\u001b[0m\n",
            "\u001b[0;31mAttributeError\u001b[0m: 'DataFrame' object has no attribute 'csv'"
          ]
        }
      ]
    },
    {
      "cell_type": "markdown",
      "metadata": {
        "id": "xSpp7iZilkZu"
      },
      "source": [
        "แสดงไฟล์ข้อมูลที่รวมกันแล้ว"
      ]
    },
    {
      "cell_type": "code",
      "metadata": {
        "id": "j-KQcn9zn9rc"
      },
      "source": [
        ""
      ],
      "execution_count": null,
      "outputs": []
    },
    {
      "cell_type": "code",
      "metadata": {
        "id": "Tb5L4NJmZuu1"
      },
      "source": [
        ""
      ],
      "execution_count": null,
      "outputs": []
    },
    {
      "cell_type": "code",
      "metadata": {
        "id": "nua6oxgXZuqX"
      },
      "source": [
        ""
      ],
      "execution_count": null,
      "outputs": []
    },
    {
      "cell_type": "code",
      "metadata": {
        "id": "ErpnsD5DZuNz"
      },
      "source": [
        ""
      ],
      "execution_count": null,
      "outputs": []
    },
    {
      "cell_type": "markdown",
      "metadata": {
        "id": "zm8mN3OAIpJE"
      },
      "source": [
        "2. จากข้อมูล (```reduced_marketbasket.csv```) ใน http://qr.tebs.io/6zqwEf ให้เปรียบเทียบ รูปแบบ การซื้อที่น่าสนใจเป็นราย Transaction ของประชากรใน ประเทศ ```United Kingdom``` กับ ประเทศอื่นๆ (```'Country'!='United Kingdom'```)\n",
        "\n",
        "(80 คะแนน)"
      ]
    },
    {
      "cell_type": "code",
      "metadata": {
        "id": "vBMd7AWQDq5W",
        "outputId": "77d57fad-a19b-4efd-d958-0e798669ffdb",
        "colab": {
          "base_uri": "https://localhost:8080/"
        }
      },
      "source": [
        "import pandas as pd\n",
        "from google.colab import drive\n",
        "drive.mount('/content/drive')\n",
        "path = '/content/drive/My Drive/DWDM_material'"
      ],
      "execution_count": 77,
      "outputs": [
        {
          "output_type": "stream",
          "text": [
            "Drive already mounted at /content/drive; to attempt to forcibly remount, call drive.mount(\"/content/drive\", force_remount=True).\n"
          ],
          "name": "stdout"
        }
      ]
    },
    {
      "cell_type": "code",
      "metadata": {
        "id": "neKhL9yjDrK1",
        "outputId": "d6a3f781-be8c-4621-e9e7-619f12b6b368",
        "colab": {
          "base_uri": "https://localhost:8080/",
          "height": 415
        }
      },
      "source": [
        "import os\n",
        "data = pd.read_csv(os.path.join (path,'reduced_marketbasket.csv'),encoding='latin1')\n",
        "data"
      ],
      "execution_count": 79,
      "outputs": [
        {
          "output_type": "execute_result",
          "data": {
            "text/html": [
              "<div>\n",
              "<style scoped>\n",
              "    .dataframe tbody tr th:only-of-type {\n",
              "        vertical-align: middle;\n",
              "    }\n",
              "\n",
              "    .dataframe tbody tr th {\n",
              "        vertical-align: top;\n",
              "    }\n",
              "\n",
              "    .dataframe thead th {\n",
              "        text-align: right;\n",
              "    }\n",
              "</style>\n",
              "<table border=\"1\" class=\"dataframe\">\n",
              "  <thead>\n",
              "    <tr style=\"text-align: right;\">\n",
              "      <th></th>\n",
              "      <th>InvoiceNo</th>\n",
              "      <th>StockCode</th>\n",
              "      <th>Description</th>\n",
              "      <th>Quantity</th>\n",
              "      <th>InvoiceDate</th>\n",
              "      <th>UnitPrice</th>\n",
              "      <th>CustomerID</th>\n",
              "      <th>Country</th>\n",
              "    </tr>\n",
              "  </thead>\n",
              "  <tbody>\n",
              "    <tr>\n",
              "      <th>0</th>\n",
              "      <td>536365</td>\n",
              "      <td>85123A</td>\n",
              "      <td>WHITE HANGING HEART T-LIGHT HOLDER</td>\n",
              "      <td>6</td>\n",
              "      <td>12/01/2010 08:26</td>\n",
              "      <td>2.55</td>\n",
              "      <td>17850.0</td>\n",
              "      <td>United Kingdom</td>\n",
              "    </tr>\n",
              "    <tr>\n",
              "      <th>1</th>\n",
              "      <td>536365</td>\n",
              "      <td>71053</td>\n",
              "      <td>WHITE METAL LANTERN</td>\n",
              "      <td>6</td>\n",
              "      <td>12/01/2010 08:26</td>\n",
              "      <td>3.39</td>\n",
              "      <td>17850.0</td>\n",
              "      <td>United Kingdom</td>\n",
              "    </tr>\n",
              "    <tr>\n",
              "      <th>2</th>\n",
              "      <td>536365</td>\n",
              "      <td>84406B</td>\n",
              "      <td>CREAM CUPID HEARTS COAT HANGER</td>\n",
              "      <td>8</td>\n",
              "      <td>12/01/2010 08:26</td>\n",
              "      <td>2.75</td>\n",
              "      <td>17850.0</td>\n",
              "      <td>United Kingdom</td>\n",
              "    </tr>\n",
              "    <tr>\n",
              "      <th>3</th>\n",
              "      <td>536365</td>\n",
              "      <td>84029G</td>\n",
              "      <td>KNITTED UNION FLAG HOT WATER BOTTLE</td>\n",
              "      <td>6</td>\n",
              "      <td>12/01/2010 08:26</td>\n",
              "      <td>3.39</td>\n",
              "      <td>17850.0</td>\n",
              "      <td>United Kingdom</td>\n",
              "    </tr>\n",
              "    <tr>\n",
              "      <th>4</th>\n",
              "      <td>536365</td>\n",
              "      <td>84029E</td>\n",
              "      <td>RED WOOLLY HOTTIE WHITE HEART.</td>\n",
              "      <td>6</td>\n",
              "      <td>12/01/2010 08:26</td>\n",
              "      <td>3.39</td>\n",
              "      <td>17850.0</td>\n",
              "      <td>United Kingdom</td>\n",
              "    </tr>\n",
              "    <tr>\n",
              "      <th>...</th>\n",
              "      <td>...</td>\n",
              "      <td>...</td>\n",
              "      <td>...</td>\n",
              "      <td>...</td>\n",
              "      <td>...</td>\n",
              "      <td>...</td>\n",
              "      <td>...</td>\n",
              "      <td>...</td>\n",
              "    </tr>\n",
              "    <tr>\n",
              "      <th>541904</th>\n",
              "      <td>581587</td>\n",
              "      <td>22613</td>\n",
              "      <td>PACK OF 20 SPACEBOY NAPKINS</td>\n",
              "      <td>12</td>\n",
              "      <td>12/09/2011 12:50</td>\n",
              "      <td>0.85</td>\n",
              "      <td>12680.0</td>\n",
              "      <td>France</td>\n",
              "    </tr>\n",
              "    <tr>\n",
              "      <th>541905</th>\n",
              "      <td>581587</td>\n",
              "      <td>22899</td>\n",
              "      <td>CHILDREN'S APRON DOLLY GIRL</td>\n",
              "      <td>6</td>\n",
              "      <td>12/09/2011 12:50</td>\n",
              "      <td>2.10</td>\n",
              "      <td>12680.0</td>\n",
              "      <td>France</td>\n",
              "    </tr>\n",
              "    <tr>\n",
              "      <th>541906</th>\n",
              "      <td>581587</td>\n",
              "      <td>23254</td>\n",
              "      <td>CHILDRENS CUTLERY DOLLY GIRL</td>\n",
              "      <td>4</td>\n",
              "      <td>12/09/2011 12:50</td>\n",
              "      <td>4.15</td>\n",
              "      <td>12680.0</td>\n",
              "      <td>France</td>\n",
              "    </tr>\n",
              "    <tr>\n",
              "      <th>541907</th>\n",
              "      <td>581587</td>\n",
              "      <td>23255</td>\n",
              "      <td>CHILDRENS CUTLERY CIRCUS PARADE</td>\n",
              "      <td>4</td>\n",
              "      <td>12/09/2011 12:50</td>\n",
              "      <td>4.15</td>\n",
              "      <td>12680.0</td>\n",
              "      <td>France</td>\n",
              "    </tr>\n",
              "    <tr>\n",
              "      <th>541908</th>\n",
              "      <td>581587</td>\n",
              "      <td>22138</td>\n",
              "      <td>BAKING SET 9 PIECE RETROSPOT</td>\n",
              "      <td>3</td>\n",
              "      <td>12/09/2011 12:50</td>\n",
              "      <td>4.95</td>\n",
              "      <td>12680.0</td>\n",
              "      <td>France</td>\n",
              "    </tr>\n",
              "  </tbody>\n",
              "</table>\n",
              "<p>541909 rows × 8 columns</p>\n",
              "</div>"
            ],
            "text/plain": [
              "       InvoiceNo StockCode  ... CustomerID         Country\n",
              "0         536365    85123A  ...    17850.0  United Kingdom\n",
              "1         536365     71053  ...    17850.0  United Kingdom\n",
              "2         536365    84406B  ...    17850.0  United Kingdom\n",
              "3         536365    84029G  ...    17850.0  United Kingdom\n",
              "4         536365    84029E  ...    17850.0  United Kingdom\n",
              "...          ...       ...  ...        ...             ...\n",
              "541904    581587     22613  ...    12680.0          France\n",
              "541905    581587     22899  ...    12680.0          France\n",
              "541906    581587     23254  ...    12680.0          France\n",
              "541907    581587     23255  ...    12680.0          France\n",
              "541908    581587     22138  ...    12680.0          France\n",
              "\n",
              "[541909 rows x 8 columns]"
            ]
          },
          "metadata": {
            "tags": []
          },
          "execution_count": 79
        }
      ]
    },
    {
      "cell_type": "code",
      "metadata": {
        "id": "kkHq4r1xDrQJ",
        "outputId": "57c59c7d-d44a-4a78-c3ea-83a1d70cd612",
        "colab": {
          "base_uri": "https://localhost:8080/",
          "height": 1000
        }
      },
      "source": [
        "data.groupby('Country').sum().sort_values('Quantity')"
      ],
      "execution_count": 84,
      "outputs": [
        {
          "output_type": "execute_result",
          "data": {
            "text/html": [
              "<div>\n",
              "<style scoped>\n",
              "    .dataframe tbody tr th:only-of-type {\n",
              "        vertical-align: middle;\n",
              "    }\n",
              "\n",
              "    .dataframe tbody tr th {\n",
              "        vertical-align: top;\n",
              "    }\n",
              "\n",
              "    .dataframe thead th {\n",
              "        text-align: right;\n",
              "    }\n",
              "</style>\n",
              "<table border=\"1\" class=\"dataframe\">\n",
              "  <thead>\n",
              "    <tr style=\"text-align: right;\">\n",
              "      <th></th>\n",
              "      <th>Quantity</th>\n",
              "      <th>UnitPrice</th>\n",
              "      <th>CustomerID</th>\n",
              "    </tr>\n",
              "    <tr>\n",
              "      <th>Country</th>\n",
              "      <th></th>\n",
              "      <th></th>\n",
              "      <th></th>\n",
              "    </tr>\n",
              "  </thead>\n",
              "  <tbody>\n",
              "    <tr>\n",
              "      <th>Saudi Arabia</th>\n",
              "      <td>75</td>\n",
              "      <td>2.411000e+01</td>\n",
              "      <td>1.256500e+05</td>\n",
              "    </tr>\n",
              "    <tr>\n",
              "      <th>Bahrain</th>\n",
              "      <td>260</td>\n",
              "      <td>8.657000e+01</td>\n",
              "      <td>2.100270e+05</td>\n",
              "    </tr>\n",
              "    <tr>\n",
              "      <th>RSA</th>\n",
              "      <td>352</td>\n",
              "      <td>2.481000e+02</td>\n",
              "      <td>7.218680e+05</td>\n",
              "    </tr>\n",
              "    <tr>\n",
              "      <th>Brazil</th>\n",
              "      <td>356</td>\n",
              "      <td>1.426000e+02</td>\n",
              "      <td>4.086080e+05</td>\n",
              "    </tr>\n",
              "    <tr>\n",
              "      <th>Lebanon</th>\n",
              "      <td>386</td>\n",
              "      <td>2.424400e+02</td>\n",
              "      <td>5.743800e+05</td>\n",
              "    </tr>\n",
              "    <tr>\n",
              "      <th>European Community</th>\n",
              "      <td>497</td>\n",
              "      <td>2.940500e+02</td>\n",
              "      <td>9.215880e+05</td>\n",
              "    </tr>\n",
              "    <tr>\n",
              "      <th>Czech Republic</th>\n",
              "      <td>592</td>\n",
              "      <td>8.815000e+01</td>\n",
              "      <td>3.834300e+05</td>\n",
              "    </tr>\n",
              "    <tr>\n",
              "      <th>Lithuania</th>\n",
              "      <td>652</td>\n",
              "      <td>9.944000e+01</td>\n",
              "      <td>5.366200e+05</td>\n",
              "    </tr>\n",
              "    <tr>\n",
              "      <th>Malta</th>\n",
              "      <td>944</td>\n",
              "      <td>6.660100e+02</td>\n",
              "      <td>2.158496e+06</td>\n",
              "    </tr>\n",
              "    <tr>\n",
              "      <th>United Arab Emirates</th>\n",
              "      <td>982</td>\n",
              "      <td>2.298900e+02</td>\n",
              "      <td>1.018952e+06</td>\n",
              "    </tr>\n",
              "    <tr>\n",
              "      <th>USA</th>\n",
              "      <td>1034</td>\n",
              "      <td>6.449800e+02</td>\n",
              "      <td>3.672086e+06</td>\n",
              "    </tr>\n",
              "    <tr>\n",
              "      <th>Greece</th>\n",
              "      <td>1556</td>\n",
              "      <td>7.132900e+02</td>\n",
              "      <td>2.008584e+06</td>\n",
              "    </tr>\n",
              "    <tr>\n",
              "      <th>Iceland</th>\n",
              "      <td>2458</td>\n",
              "      <td>4.812100e+02</td>\n",
              "      <td>2.247154e+06</td>\n",
              "    </tr>\n",
              "    <tr>\n",
              "      <th>Canada</th>\n",
              "      <td>2763</td>\n",
              "      <td>9.105800e+02</td>\n",
              "      <td>2.615483e+06</td>\n",
              "    </tr>\n",
              "    <tr>\n",
              "      <th>Unspecified</th>\n",
              "      <td>3300</td>\n",
              "      <td>1.204010e+03</td>\n",
              "      <td>3.348046e+06</td>\n",
              "    </tr>\n",
              "    <tr>\n",
              "      <th>Poland</th>\n",
              "      <td>3653</td>\n",
              "      <td>1.422270e+03</td>\n",
              "      <td>4.341972e+06</td>\n",
              "    </tr>\n",
              "    <tr>\n",
              "      <th>Israel</th>\n",
              "      <td>4353</td>\n",
              "      <td>1.079040e+03</td>\n",
              "      <td>3.164467e+06</td>\n",
              "    </tr>\n",
              "    <tr>\n",
              "      <th>Hong Kong</th>\n",
              "      <td>4769</td>\n",
              "      <td>1.224150e+04</td>\n",
              "      <td>0.000000e+00</td>\n",
              "    </tr>\n",
              "    <tr>\n",
              "      <th>Austria</th>\n",
              "      <td>4827</td>\n",
              "      <td>1.701520e+03</td>\n",
              "      <td>5.021102e+06</td>\n",
              "    </tr>\n",
              "    <tr>\n",
              "      <th>Singapore</th>\n",
              "      <td>5234</td>\n",
              "      <td>2.510889e+04</td>\n",
              "      <td>2.918376e+06</td>\n",
              "    </tr>\n",
              "    <tr>\n",
              "      <th>Cyprus</th>\n",
              "      <td>6317</td>\n",
              "      <td>3.920070e+03</td>\n",
              "      <td>7.715880e+06</td>\n",
              "    </tr>\n",
              "    <tr>\n",
              "      <th>Italy</th>\n",
              "      <td>7999</td>\n",
              "      <td>3.879390e+03</td>\n",
              "      <td>1.015666e+07</td>\n",
              "    </tr>\n",
              "    <tr>\n",
              "      <th>Denmark</th>\n",
              "      <td>8188</td>\n",
              "      <td>1.266950e+03</td>\n",
              "      <td>4.876734e+06</td>\n",
              "    </tr>\n",
              "    <tr>\n",
              "      <th>Channel Islands</th>\n",
              "      <td>9479</td>\n",
              "      <td>3.738550e+03</td>\n",
              "      <td>1.128522e+07</td>\n",
              "    </tr>\n",
              "    <tr>\n",
              "      <th>Finland</th>\n",
              "      <td>10666</td>\n",
              "      <td>3.786850e+03</td>\n",
              "      <td>8.699324e+06</td>\n",
              "    </tr>\n",
              "    <tr>\n",
              "      <th>Portugal</th>\n",
              "      <td>16180</td>\n",
              "      <td>1.303754e+04</td>\n",
              "      <td>1.886480e+07</td>\n",
              "    </tr>\n",
              "    <tr>\n",
              "      <th>Norway</th>\n",
              "      <td>19247</td>\n",
              "      <td>6.529060e+03</td>\n",
              "      <td>1.350765e+07</td>\n",
              "    </tr>\n",
              "    <tr>\n",
              "      <th>Belgium</th>\n",
              "      <td>23152</td>\n",
              "      <td>7.540130e+03</td>\n",
              "      <td>2.571829e+07</td>\n",
              "    </tr>\n",
              "    <tr>\n",
              "      <th>Japan</th>\n",
              "      <td>25218</td>\n",
              "      <td>8.148600e+02</td>\n",
              "      <td>4.567292e+06</td>\n",
              "    </tr>\n",
              "    <tr>\n",
              "      <th>Spain</th>\n",
              "      <td>26824</td>\n",
              "      <td>1.263345e+04</td>\n",
              "      <td>3.268929e+07</td>\n",
              "    </tr>\n",
              "    <tr>\n",
              "      <th>Switzerland</th>\n",
              "      <td>30325</td>\n",
              "      <td>6.813690e+03</td>\n",
              "      <td>2.377592e+07</td>\n",
              "    </tr>\n",
              "    <tr>\n",
              "      <th>Sweden</th>\n",
              "      <td>35637</td>\n",
              "      <td>1.806830e+03</td>\n",
              "      <td>6.790083e+06</td>\n",
              "    </tr>\n",
              "    <tr>\n",
              "      <th>Australia</th>\n",
              "      <td>83653</td>\n",
              "      <td>4.054750e+03</td>\n",
              "      <td>1.569300e+07</td>\n",
              "    </tr>\n",
              "    <tr>\n",
              "      <th>France</th>\n",
              "      <td>110480</td>\n",
              "      <td>4.303199e+04</td>\n",
              "      <td>1.076489e+08</td>\n",
              "    </tr>\n",
              "    <tr>\n",
              "      <th>Germany</th>\n",
              "      <td>117448</td>\n",
              "      <td>3.766600e+04</td>\n",
              "      <td>1.200751e+08</td>\n",
              "    </tr>\n",
              "    <tr>\n",
              "      <th>EIRE</th>\n",
              "      <td>142637</td>\n",
              "      <td>4.844719e+04</td>\n",
              "      <td>1.103917e+08</td>\n",
              "    </tr>\n",
              "    <tr>\n",
              "      <th>Netherlands</th>\n",
              "      <td>200128</td>\n",
              "      <td>6.492550e+03</td>\n",
              "      <td>3.419054e+07</td>\n",
              "    </tr>\n",
              "    <tr>\n",
              "      <th>United Kingdom</th>\n",
              "      <td>4263829</td>\n",
              "      <td>2.245715e+06</td>\n",
              "      <td>5.626433e+09</td>\n",
              "    </tr>\n",
              "  </tbody>\n",
              "</table>\n",
              "</div>"
            ],
            "text/plain": [
              "                      Quantity     UnitPrice    CustomerID\n",
              "Country                                                   \n",
              "Saudi Arabia                75  2.411000e+01  1.256500e+05\n",
              "Bahrain                    260  8.657000e+01  2.100270e+05\n",
              "RSA                        352  2.481000e+02  7.218680e+05\n",
              "Brazil                     356  1.426000e+02  4.086080e+05\n",
              "Lebanon                    386  2.424400e+02  5.743800e+05\n",
              "European Community         497  2.940500e+02  9.215880e+05\n",
              "Czech Republic             592  8.815000e+01  3.834300e+05\n",
              "Lithuania                  652  9.944000e+01  5.366200e+05\n",
              "Malta                      944  6.660100e+02  2.158496e+06\n",
              "United Arab Emirates       982  2.298900e+02  1.018952e+06\n",
              "USA                       1034  6.449800e+02  3.672086e+06\n",
              "Greece                    1556  7.132900e+02  2.008584e+06\n",
              "Iceland                   2458  4.812100e+02  2.247154e+06\n",
              "Canada                    2763  9.105800e+02  2.615483e+06\n",
              "Unspecified               3300  1.204010e+03  3.348046e+06\n",
              "Poland                    3653  1.422270e+03  4.341972e+06\n",
              "Israel                    4353  1.079040e+03  3.164467e+06\n",
              "Hong Kong                 4769  1.224150e+04  0.000000e+00\n",
              "Austria                   4827  1.701520e+03  5.021102e+06\n",
              "Singapore                 5234  2.510889e+04  2.918376e+06\n",
              "Cyprus                    6317  3.920070e+03  7.715880e+06\n",
              "Italy                     7999  3.879390e+03  1.015666e+07\n",
              "Denmark                   8188  1.266950e+03  4.876734e+06\n",
              "Channel Islands           9479  3.738550e+03  1.128522e+07\n",
              "Finland                  10666  3.786850e+03  8.699324e+06\n",
              "Portugal                 16180  1.303754e+04  1.886480e+07\n",
              "Norway                   19247  6.529060e+03  1.350765e+07\n",
              "Belgium                  23152  7.540130e+03  2.571829e+07\n",
              "Japan                    25218  8.148600e+02  4.567292e+06\n",
              "Spain                    26824  1.263345e+04  3.268929e+07\n",
              "Switzerland              30325  6.813690e+03  2.377592e+07\n",
              "Sweden                   35637  1.806830e+03  6.790083e+06\n",
              "Australia                83653  4.054750e+03  1.569300e+07\n",
              "France                  110480  4.303199e+04  1.076489e+08\n",
              "Germany                 117448  3.766600e+04  1.200751e+08\n",
              "EIRE                    142637  4.844719e+04  1.103917e+08\n",
              "Netherlands             200128  6.492550e+03  3.419054e+07\n",
              "United Kingdom         4263829  2.245715e+06  5.626433e+09"
            ]
          },
          "metadata": {
            "tags": []
          },
          "execution_count": 84
        }
      ]
    },
    {
      "cell_type": "code",
      "metadata": {
        "id": "04IFKNYFDre1",
        "outputId": "260d6ce0-d1b9-477b-ea48-70a3eaad8f79",
        "colab": {
          "base_uri": "https://localhost:8080/"
        }
      },
      "source": [
        "transacs = data.groupby('InvoiceNo')['StockCode'].apply(list)\n",
        "transacs"
      ],
      "execution_count": 81,
      "outputs": [
        {
          "output_type": "execute_result",
          "data": {
            "text/plain": [
              "InvoiceNo\n",
              "536365     [85123A, 71053, 84406B, 84029G, 84029E, 22752,...\n",
              "536366                                        [22633, 22632]\n",
              "536367     [84879, 22745, 22748, 22749, 22310, 84969, 226...\n",
              "536368                          [22960, 22913, 22912, 22914]\n",
              "536369                                               [21756]\n",
              "                                 ...                        \n",
              "C581484                                              [23843]\n",
              "C581490                                       [22178, 23144]\n",
              "C581499                                                  [M]\n",
              "C581568                                              [21258]\n",
              "C581569                                       [84978, 20979]\n",
              "Name: StockCode, Length: 25900, dtype: object"
            ]
          },
          "metadata": {
            "tags": []
          },
          "execution_count": 81
        }
      ]
    },
    {
      "cell_type": "code",
      "metadata": {
        "id": "DvJwpOz8Drb2",
        "outputId": "de1bbcdb-f3b4-4574-9c0e-5955771bd3c1",
        "colab": {
          "base_uri": "https://localhost:8080/"
        }
      },
      "source": [
        "!pip install apyori"
      ],
      "execution_count": 85,
      "outputs": [
        {
          "output_type": "stream",
          "text": [
            "Collecting apyori\n",
            "  Downloading https://files.pythonhosted.org/packages/5e/62/5ffde5c473ea4b033490617ec5caa80d59804875ad3c3c57c0976533a21a/apyori-1.1.2.tar.gz\n",
            "Building wheels for collected packages: apyori\n",
            "  Building wheel for apyori (setup.py) ... \u001b[?25l\u001b[?25hdone\n",
            "  Created wheel for apyori: filename=apyori-1.1.2-cp36-none-any.whl size=5975 sha256=236302e16108fe6da6adc5de3e8d1e7c820b0fcdad992df63cb0eabd947f67a7\n",
            "  Stored in directory: /root/.cache/pip/wheels/5d/92/bb/474bbadbc8c0062b9eb168f69982a0443263f8ab1711a8cad0\n",
            "Successfully built apyori\n",
            "Installing collected packages: apyori\n",
            "Successfully installed apyori-1.1.2\n"
          ],
          "name": "stdout"
        }
      ]
    },
    {
      "cell_type": "code",
      "metadata": {
        "id": "fLzohTYeDrNe"
      },
      "source": [
        "from apyori import apriori"
      ],
      "execution_count": 86,
      "outputs": []
    },
    {
      "cell_type": "code",
      "metadata": {
        "id": "dfwVFDT9Dq82",
        "outputId": "c2c3925e-d55f-4745-81cb-90595799afeb",
        "colab": {
          "base_uri": "https://localhost:8080/"
        }
      },
      "source": [
        "list(apriori(transacs,min_support=0.022,min_confidence=0.1))"
      ],
      "execution_count": 88,
      "outputs": [
        {
          "output_type": "execute_result",
          "data": {
            "text/plain": [
              "[RelationRecord(items=frozenset({'20725', '20727'}), support=0.025019305019305018, ordered_statistics=[OrderedStatistic(items_base=frozenset({'20725'}), items_add=frozenset({'20727'}), confidence=0.40298507462686567, lift=8.059701492537313), OrderedStatistic(items_base=frozenset({'20727'}), items_add=frozenset({'20725'}), confidence=0.5003861003861003, lift=8.059701492537313)]),\n",
              " RelationRecord(items=frozenset({'20725', '22383'}), support=0.0255984555984556, ordered_statistics=[OrderedStatistic(items_base=frozenset({'20725'}), items_add=frozenset({'22383'}), confidence=0.41231343283582095, lift=8.176813101414826), OrderedStatistic(items_base=frozenset({'22383'}), items_add=frozenset({'20725'}), confidence=0.5076569678407351, lift=8.176813101414826)]),\n",
              " RelationRecord(items=frozenset({'22384', '20725'}), support=0.023667953667953667, ordered_statistics=[OrderedStatistic(items_base=frozenset({'20725'}), items_add=frozenset({'22384'}), confidence=0.3812189054726368, lift=8.895107794361525), OrderedStatistic(items_base=frozenset({'22384'}), items_add=frozenset({'20725'}), confidence=0.5522522522522522, lift=8.895107794361524)]),\n",
              " RelationRecord(items=frozenset({'85099B', '20725'}), support=0.022702702702702703, ordered_statistics=[OrderedStatistic(items_base=frozenset({'20725'}), items_add=frozenset({'85099B'}), confidence=0.3656716417910448, lift=4.436016638120871), OrderedStatistic(items_base=frozenset({'85099B'}), items_add=frozenset({'20725'}), confidence=0.2754098360655738, lift=4.436016638120871)]),\n",
              " RelationRecord(items=frozenset({'22383', '20727'}), support=0.022664092664092663, ordered_statistics=[OrderedStatistic(items_base=frozenset({'20727'}), items_add=frozenset({'22383'}), confidence=0.4532818532818532, lift=8.98928024502297), OrderedStatistic(items_base=frozenset({'22383'}), items_add=frozenset({'20727'}), confidence=0.4494640122511485, lift=8.98928024502297)]),\n",
              " RelationRecord(items=frozenset({'85099B', '21931'}), support=0.0283011583011583, ordered_statistics=[OrderedStatistic(items_base=frozenset({'21931'}), items_add=frozenset({'85099B'}), confidence=0.6103247293921732, lift=7.403939340167346), OrderedStatistic(items_base=frozenset({'85099B'}), items_add=frozenset({'21931'}), confidence=0.3433255269320843, lift=7.403939340167347)]),\n",
              " RelationRecord(items=frozenset({'22386', '85099B'}), support=0.03216216216216216, ordered_statistics=[OrderedStatistic(items_base=frozenset({'22386'}), items_add=frozenset({'85099B'}), confidence=0.6766856214459789, lift=8.20897311262335), OrderedStatistic(items_base=frozenset({'85099B'}), items_add=frozenset({'22386'}), confidence=0.39016393442622943, lift=8.20897311262335)]),\n",
              " RelationRecord(items=frozenset({'85099B', '22411'}), support=0.02637065637065637, ordered_statistics=[OrderedStatistic(items_base=frozenset({'22411'}), items_add=frozenset({'85099B'}), confidence=0.5754001684919966, lift=6.980264339083237), OrderedStatistic(items_base=frozenset({'85099B'}), items_add=frozenset({'22411'}), confidence=0.31990632318501167, lift=6.980264339083237)]),\n",
              " RelationRecord(items=frozenset({'22698', '22697'}), support=0.024864864864864864, ordered_statistics=[OrderedStatistic(items_base=frozenset({'22697'}), items_add=frozenset({'22698'}), confidence=0.609271523178808, lift=19.67597562385427), OrderedStatistic(items_base=frozenset({'22698'}), items_add=frozenset({'22697'}), confidence=0.8029925187032418, lift=19.67597562385427)]),\n",
              " RelationRecord(items=frozenset({'22699', '22697'}), support=0.03027027027027027, ordered_statistics=[OrderedStatistic(items_base=frozenset({'22697'}), items_add=frozenset({'22699'}), confidence=0.7417218543046358, lift=17.1523178807947), OrderedStatistic(items_base=frozenset({'22699'}), items_add=frozenset({'22697'}), confidence=0.7, lift=17.1523178807947)]),\n",
              " RelationRecord(items=frozenset({'22698', '22699'}), support=0.023706563706563707, ordered_statistics=[OrderedStatistic(items_base=frozenset({'22698'}), items_add=frozenset({'22699'}), confidence=0.7655860349127181, lift=17.704177057356606), OrderedStatistic(items_base=frozenset({'22699'}), items_add=frozenset({'22698'}), confidence=0.5482142857142857, lift=17.704177057356606)]),\n",
              " RelationRecord(items=frozenset({'22726', '22727'}), support=0.02494208494208494, ordered_statistics=[OrderedStatistic(items_base=frozenset({'22726'}), items_add=frozenset({'22727'}), confidence=0.6440677966101696, lift=15.431411593157623), OrderedStatistic(items_base=frozenset({'22727'}), items_add=frozenset({'22726'}), confidence=0.5975948196114708, lift=15.431411593157621)]),\n",
              " RelationRecord(items=frozenset({'85099B', '23203'}), support=0.022471042471042472, ordered_statistics=[OrderedStatistic(items_base=frozenset({'23203'}), items_add=frozenset({'85099B'}), confidence=0.4659727782225781, lift=5.652784522700127), OrderedStatistic(items_base=frozenset({'85099B'}), items_add=frozenset({'23203'}), confidence=0.27259953161592504, lift=5.652784522700127)]),\n",
              " RelationRecord(items=frozenset({'85099B', '85099C'}), support=0.022895752895752897, ordered_statistics=[OrderedStatistic(items_base=frozenset({'85099B'}), items_add=frozenset({'85099C'}), confidence=0.27775175644028105, lift=7.596378555230496), OrderedStatistic(items_base=frozenset({'85099C'}), items_add=frozenset({'85099B'}), confidence=0.6261879619852165, lift=7.596378555230495)])]"
            ]
          },
          "metadata": {
            "tags": []
          },
          "execution_count": 88
        }
      ]
    },
    {
      "cell_type": "code",
      "metadata": {
        "id": "TQAE-bqDDq0R",
        "outputId": "0d4e9cf7-27f3-4dc0-88b0-ad7feee88eed",
        "colab": {
          "base_uri": "https://localhost:8080/"
        }
      },
      "source": [
        "'Country'!='United Kingdom'"
      ],
      "execution_count": 97,
      "outputs": [
        {
          "output_type": "execute_result",
          "data": {
            "text/plain": [
              "True"
            ]
          },
          "metadata": {
            "tags": []
          },
          "execution_count": 97
        }
      ]
    },
    {
      "cell_type": "markdown",
      "metadata": {
        "id": "uhgCU6TcKX9v"
      },
      "source": [
        "3. เขียนคำศัพท์ที่ได้เรียนในวิชาพร้อมทั้งคำนิยามที่เป็นคำพูดของนักศึกษาเอง (ห้าม search google) 20 คำ\n",
        "\n",
        "(คำละ 0.5 คะแนน)"
      ]
    },
    {
      "cell_type": "markdown",
      "metadata": {
        "id": "gilCetYuDxPy"
      },
      "source": [
        "path คือ คำสั่งจัดเก็บไฟล์ข้อมูล\n"
      ]
    },
    {
      "cell_type": "markdown",
      "metadata": {
        "id": "UlSn0O-eHgmC"
      },
      "source": [
        "index คือ เป็นค่าใน list"
      ]
    },
    {
      "cell_type": "markdown",
      "metadata": {
        "id": "pWimIFQdHifO"
      },
      "source": [
        "cocat คือ เอามารวมกัน"
      ]
    },
    {
      "cell_type": "markdown",
      "metadata": {
        "id": "_YtLgfzikr3V"
      },
      "source": [
        "if คือ เงื่อนไขในการเขียนโค้ด"
      ]
    },
    {
      "cell_type": "markdown",
      "metadata": {
        "id": "-j6tVcrDHlUQ"
      },
      "source": [
        "len คือ ความยาว"
      ]
    },
    {
      "cell_type": "markdown",
      "metadata": {
        "id": "5GVwaGGpHq5I"
      },
      "source": [
        "append คือ เป็นการเพิ่มสมาชิกไปเรื่อยๆ"
      ]
    },
    {
      "cell_type": "markdown",
      "metadata": {
        "id": "Q8bl32EQJO94"
      },
      "source": [
        "\n",
        "Test คือ เป็นการทดสอบหรือการทำนาย"
      ]
    },
    {
      "cell_type": "markdown",
      "metadata": {
        "id": "0YCw7MjdJOOy"
      },
      "source": [
        "\n",
        "Draw คือ การขยายเพื่อดูข้อมูลอย่างละเอียด สามารถดูวัน ชั่วโมงได้"
      ]
    },
    {
      "cell_type": "markdown",
      "metadata": {
        "id": "bjvZFHgAK4Si"
      },
      "source": [
        "Drew คือ การซูมข้อมูลให้อยู่ในรูปแบบกว้าง เช่น รายเดือน รายปี"
      ]
    },
    {
      "cell_type": "markdown",
      "metadata": {
        "id": "ZJm26OitJRE3"
      },
      "source": [
        " Evaluate คือ การนำไป Test มาวัดผลว่าดีแค่ไหน"
      ]
    },
    {
      "cell_type": "markdown",
      "metadata": {
        "id": "39QiZFGpJRmx"
      },
      "source": [
        "Train (fit) คือ การสร้างโมเดล"
      ]
    },
    {
      "cell_type": "markdown",
      "metadata": {
        "id": "95b2LufiJSL-"
      },
      "source": [
        "Import Define คือ นิยามโมเดล"
      ]
    },
    {
      "cell_type": "markdown",
      "metadata": {
        "id": "aFO-LO5FJRcx"
      },
      "source": [
        "import คือ การเรียกใช้ package"
      ]
    },
    {
      "cell_type": "markdown",
      "metadata": {
        "id": "V3uvywqNJTN7"
      },
      "source": [
        "print คือ คำสั่งเพื่อให้แสดงที่จัดเก็บไฟล์ข้อมูล"
      ]
    },
    {
      "cell_type": "markdown",
      "metadata": {
        "id": "HmVKClSSJTK-"
      },
      "source": [
        "\n",
        "table1 คือ คำสั่งเพื่อให้แสดงรายละเอียดข้อมูลที่อยู่ในไฟล์"
      ]
    },
    {
      "cell_type": "markdown",
      "metadata": {
        "id": "kJBnLxs8VTyO"
      },
      "source": [
        "mod คือ % การหารเอาเศษ"
      ]
    },
    {
      "cell_type": "markdown",
      "metadata": {
        "id": "a_U7C66FVTkR"
      },
      "source": [
        "\n",
        "matplotlib คือ คำสั่งแสดงขอมูลในไฟล์แบบย่อ"
      ]
    },
    {
      "cell_type": "markdown",
      "metadata": {
        "id": "GjI9O7kHVUeJ"
      },
      "source": [
        "Loop คือ เซตของสมาชิกในลูป"
      ]
    },
    {
      "cell_type": "markdown",
      "metadata": {
        "id": "0fI_NyuMVUSL"
      },
      "source": [
        "function max() คือ ฟังก์ชั่นการหาค่าที่มากที่สุดใน list"
      ]
    },
    {
      "cell_type": "markdown",
      "metadata": {
        "id": "BI3wGfbkdYWX"
      },
      "source": [
        "fanction sort() คือ ฟังก์ชั่นการเรียงลำดับจากค่ามากที่สุดไปค่าที่น้อยที่สุดใน list"
      ]
    },
    {
      "cell_type": "markdown",
      "metadata": {
        "id": "LGrH1jPjhWRG"
      },
      "source": [
        "Graphs and Networks คือ เครือข่ายสังคมและข้อมูล โครงสร้างโมเดล"
      ]
    }
  ]
}