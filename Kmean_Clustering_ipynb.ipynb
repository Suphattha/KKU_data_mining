{
  "nbformat": 4,
  "nbformat_minor": 0,
  "metadata": {
    "colab": {
      "name": "Kmean_Clustering.ipynb.ipynb",
      "provenance": [],
      "authorship_tag": "ABX9TyN2VTlplLSG+8jqUPms3UAA",
      "include_colab_link": true
    },
    "kernelspec": {
      "name": "python3",
      "display_name": "Python 3"
    }
  },
  "cells": [
    {
      "cell_type": "markdown",
      "metadata": {
        "id": "view-in-github",
        "colab_type": "text"
      },
      "source": [
        "<a href=\"https://colab.research.google.com/github/Suphattha/KKU_data_mining/blob/master/Kmean_Clustering_ipynb.ipynb\" target=\"_parent\"><img src=\"https://colab.research.google.com/assets/colab-badge.svg\" alt=\"Open In Colab\"/></a>"
      ]
    },
    {
      "cell_type": "markdown",
      "metadata": {
        "id": "NJA_Iwi89Cl3"
      },
      "source": [
        "##Generate Data"
      ]
    },
    {
      "cell_type": "code",
      "metadata": {
        "id": "MdaMzZa89FbO"
      },
      "source": [
        "from sklearn.datasets import make_blobs"
      ],
      "execution_count": 17,
      "outputs": []
    },
    {
      "cell_type": "code",
      "metadata": {
        "id": "Kl8O0sQj9FYt"
      },
      "source": [
        "x,y=make_blobs(n_samples=300,centers=3,n_features=2,random_state=6)"
      ],
      "execution_count": 18,
      "outputs": []
    },
    {
      "cell_type": "code",
      "metadata": {
        "id": "H7t5FXpD9FWv",
        "outputId": "b4bda7c7-36b8-4934-e5d5-68ba6d0eff6d",
        "colab": {
          "base_uri": "https://localhost:8080/"
        }
      },
      "source": [
        "x.shape"
      ],
      "execution_count": 19,
      "outputs": [
        {
          "output_type": "execute_result",
          "data": {
            "text/plain": [
              "(300, 2)"
            ]
          },
          "metadata": {
            "tags": []
          },
          "execution_count": 19
        }
      ]
    },
    {
      "cell_type": "code",
      "metadata": {
        "id": "dNsam3EZ9FUg",
        "outputId": "1d8a3c9d-91d4-4c0a-d78f-cabda1f54f5e",
        "colab": {
          "base_uri": "https://localhost:8080/",
          "height": 283
        }
      },
      "source": [
        "from matplotlib import pyplot as plt\n",
        "plt.scatter(x[:,0,],x[:,1])"
      ],
      "execution_count": 20,
      "outputs": [
        {
          "output_type": "execute_result",
          "data": {
            "text/plain": [
              "<matplotlib.collections.PathCollection at 0x7f1739eab6a0>"
            ]
          },
          "metadata": {
            "tags": []
          },
          "execution_count": 20
        },
        {
          "output_type": "display_data",
          "data": {
            "image/png": "[encoded data removed]",
            "text/plain": [
              "<Figure size 432x288 with 1 Axes>"
            ]
          },
          "metadata": {
            "tags": [],
            "needs_background": "light"
          }
        }
      ]
    },
    {
      "cell_type": "markdown",
      "metadata": {
        "id": "8VzCosZF_bHU"
      },
      "source": [
        "##Import"
      ]
    },
    {
      "cell_type": "code",
      "metadata": {
        "id": "l_ae-HDj9FSE"
      },
      "source": [
        "from sklearn.cluster import KMeans"
      ],
      "execution_count": 21,
      "outputs": []
    },
    {
      "cell_type": "markdown",
      "metadata": {
        "id": "Hq3lIT6S_rzb"
      },
      "source": [
        "##Define"
      ]
    },
    {
      "cell_type": "code",
      "metadata": {
        "id": "rMlzLdVd9FP-"
      },
      "source": [
        "KMclust=KMeans(n_clusters=5)"
      ],
      "execution_count": 22,
      "outputs": []
    },
    {
      "cell_type": "markdown",
      "metadata": {
        "id": "1H0HkfPd_4RO"
      },
      "source": [
        "##Train"
      ]
    },
    {
      "cell_type": "code",
      "metadata": {
        "id": "CbTtEFJp9FNk",
        "outputId": "7f07262c-c540-471f-9973-0e90bc56aad6",
        "colab": {
          "base_uri": "https://localhost:8080/"
        }
      },
      "source": [
        "KMclust.fit(x)"
      ],
      "execution_count": 23,
      "outputs": [
        {
          "output_type": "execute_result",
          "data": {
            "text/plain": [
              "KMeans(algorithm='auto', copy_x=True, init='k-means++', max_iter=300,\n",
              "       n_clusters=5, n_init=10, n_jobs=None, precompute_distances='auto',\n",
              "       random_state=None, tol=0.0001, verbose=0)"
            ]
          },
          "metadata": {
            "tags": []
          },
          "execution_count": 23
        }
      ]
    },
    {
      "cell_type": "markdown",
      "metadata": {
        "id": "7q6R0XSE_28c"
      },
      "source": [
        "##Predict"
      ]
    },
    {
      "cell_type": "code",
      "metadata": {
        "id": "uM7dC1869FG1"
      },
      "source": [
        "label=KMclust.predict(x)"
      ],
      "execution_count": 24,
      "outputs": []
    },
    {
      "cell_type": "code",
      "metadata": {
        "id": "llgkFx0A9FEe",
        "outputId": "013f4eb9-262c-4d84-c0a3-fbff06a3607f",
        "colab": {
          "base_uri": "https://localhost:8080/",
          "height": 283
        }
      },
      "source": [
        "plt.scatter(x[:,0],x[:,1],c=label)"
      ],
      "execution_count": 25,
      "outputs": [
        {
          "output_type": "execute_result",
          "data": {
            "text/plain": [
              "<matplotlib.collections.PathCollection at 0x7f1739e18320>"
            ]
          },
          "metadata": {
            "tags": []
          },
          "execution_count": 25
        },
        {
          "output_type": "display_data",
          "data": {
            "image/png": "[encoded data removed]",
            "text/plain": [
              "<Figure size 432x288 with 1 Axes>"
            ]
          },
          "metadata": {
            "tags": [],
            "needs_background": "light"
          }
        }
      ]
    },
    {
      "cell_type": "markdown",
      "metadata": {
        "id": "on4MHAm3BfZK"
      },
      "source": [
        "##Color quantization(appication of kmean)"
      ]
    },
    {
      "cell_type": "code",
      "metadata": {
        "id": "hldmnZ7k9E8X",
        "outputId": "f04851f0-0638-4453-f98c-00f78c252a21",
        "colab": {
          "base_uri": "https://localhost:8080/"
        }
      },
      "source": [
        "from google.colab import drive\n",
        "drive.mount('/content/drive')\n",
        "path='/content/drive/My Drive/DWDM_material'"
      ],
      "execution_count": 28,
      "outputs": [
        {
          "output_type": "stream",
          "text": [
            "Mounted at /content/drive\n"
          ],
          "name": "stdout"
        }
      ]
    },
    {
      "cell_type": "code",
      "metadata": {
        "id": "KXQeM0tOEgUe"
      },
      "source": [
        "import cv2\n",
        "import os"
      ],
      "execution_count": 29,
      "outputs": []
    },
    {
      "cell_type": "code",
      "metadata": {
        "id": "qZxAks2REgWz"
      },
      "source": [
        "img=cv2.imread(os.path.join(path,'5571399.jpg'))"
      ],
      "execution_count": 33,
      "outputs": []
    },
    {
      "cell_type": "code",
      "metadata": {
        "id": "SeQ8_qEwEgR5",
        "outputId": "486261c4-a58c-4195-93d9-4e8245ba3585",
        "colab": {
          "base_uri": "https://localhost:8080/",
          "height": 287
        }
      },
      "source": [
        "RGB_img = cv2.cvtColor(img, cv2.COLOR_BGR2RGB)\n",
        "plt.imshow(RGB_img)"
      ],
      "execution_count": 34,
      "outputs": [
        {
          "output_type": "execute_result",
          "data": {
            "text/plain": [
              "<matplotlib.image.AxesImage at 0x7f1730534940>"
            ]
          },
          "metadata": {
            "tags": []
          },
          "execution_count": 34
        },
        {
          "output_type": "display_data",
          "data": {
            "image/png": "[encoded data removed]",
            "text/plain": [
              "<Figure size 432x288 with 1 Axes>"
            ]
          },
          "metadata": {
            "tags": [],
            "needs_background": "light"
          }
        }
      ]
    },
    {
      "cell_type": "code",
      "metadata": {
        "id": "JI7aiXcvGp2r",
        "outputId": "f3b6a4ed-efc9-47ee-9dc7-a7a514e1ef4e",
        "colab": {
          "base_uri": "https://localhost:8080/"
        }
      },
      "source": [
        "RGB_img.shape"
      ],
      "execution_count": 35,
      "outputs": [
        {
          "output_type": "execute_result",
          "data": {
            "text/plain": [
              "(4074, 2904, 3)"
            ]
          },
          "metadata": {
            "tags": []
          },
          "execution_count": 35
        }
      ]
    },
    {
      "cell_type": "markdown",
      "metadata": {
        "id": "i255mbLlG0d6"
      },
      "source": [
        "##Count unique colors"
      ]
    },
    {
      "cell_type": "code",
      "metadata": {
        "id": "XyPFytfyGqPR"
      },
      "source": [
        "import numpy as np"
      ],
      "execution_count": 36,
      "outputs": []
    },
    {
      "cell_type": "code",
      "metadata": {
        "id": "GWWG7qPmGqTe",
        "outputId": "695de077-3027-4c4c-873b-13dadd04fae0",
        "colab": {
          "base_uri": "https://localhost:8080/"
        }
      },
      "source": [
        "np.unique(RGB_img).shape"
      ],
      "execution_count": 37,
      "outputs": [
        {
          "output_type": "execute_result",
          "data": {
            "text/plain": [
              "(256,)"
            ]
          },
          "metadata": {
            "tags": []
          },
          "execution_count": 37
        }
      ]
    },
    {
      "cell_type": "markdown",
      "metadata": {
        "id": "kI_IY0R4HNO_"
      },
      "source": [
        "##Use K-mean to reduce color from 256 colors to 8 colors"
      ]
    },
    {
      "cell_type": "code",
      "metadata": {
        "id": "v8I_aDaLGp0B"
      },
      "source": [
        "#Define\n",
        "myQuantize=KMeans(n_clusters=8)"
      ],
      "execution_count": 41,
      "outputs": []
    },
    {
      "cell_type": "code",
      "metadata": {
        "id": "46MFQ93vJliR",
        "outputId": "40d47e63-9580-426e-caac-976afd117560",
        "colab": {
          "base_uri": "https://localhost:8080/"
        }
      },
      "source": [
        "img_row=np.reshape(RGB_img,(4074*2904,3))\n",
        "img_row"
      ],
      "execution_count": 42,
      "outputs": [
        {
          "output_type": "execute_result",
          "data": {
            "text/plain": [
              "array([[33, 20, 12],\n",
              "       [33, 20, 12],\n",
              "       [34, 21, 13],\n",
              "       ...,\n",
              "       [ 0,  0,  0],\n",
              "       [ 0,  0,  0],\n",
              "       [ 0,  0,  0]], dtype=uint8)"
            ]
          },
          "metadata": {
            "tags": []
          },
          "execution_count": 42
        }
      ]
    },
    {
      "cell_type": "code",
      "metadata": {
        "id": "iyKlqPm8Hbt0",
        "outputId": "89af396c-4e5f-472c-eebc-72c568b83d9a",
        "colab": {
          "base_uri": "https://localhost:8080/"
        }
      },
      "source": [
        "#Train\n",
        "myQuantize.fit(img_row)"
      ],
      "execution_count": 46,
      "outputs": [
        {
          "output_type": "execute_result",
          "data": {
            "text/plain": [
              "KMeans(algorithm='auto', copy_x=True, init='k-means++', max_iter=300,\n",
              "       n_clusters=8, n_init=10, n_jobs=None, precompute_distances='auto',\n",
              "       random_state=None, tol=0.0001, verbose=0)"
            ]
          },
          "metadata": {
            "tags": []
          },
          "execution_count": 46
        }
      ]
    },
    {
      "cell_type": "code",
      "metadata": {
        "id": "kru7Zq59HbyH"
      },
      "source": [
        "#Predict\n",
        "res=myQuantize.predict(img_row)"
      ],
      "execution_count": 47,
      "outputs": []
    },
    {
      "cell_type": "code",
      "metadata": {
        "id": "psbblbAcHb-I",
        "outputId": "1805f591-2bc4-4e3f-af48-3831a3335332",
        "colab": {
          "base_uri": "https://localhost:8080/"
        }
      },
      "source": [
        "res"
      ],
      "execution_count": 48,
      "outputs": [
        {
          "output_type": "execute_result",
          "data": {
            "text/plain": [
              "array([5, 5, 5, ..., 2, 2, 2], dtype=int32)"
            ]
          },
          "metadata": {
            "tags": []
          },
          "execution_count": 48
        }
      ]
    },
    {
      "cell_type": "code",
      "metadata": {
        "id": "Y5gwQTZEOjDj",
        "outputId": "39a432bf-2a5f-4b67-eb47-00be3a224572",
        "colab": {
          "base_uri": "https://localhost:8080/"
        }
      },
      "source": [
        "Clus_cen = myQuantize.cluster_centers_\n",
        "Clus_cen"
      ],
      "execution_count": 50,
      "outputs": [
        {
          "output_type": "execute_result",
          "data": {
            "text/plain": [
              "array([[ 35.81454801,  32.38720228,  30.41772842],\n",
              "       [131.30780412, 120.71346923, 124.19338023],\n",
              "       [  2.10038934,   1.67945262,   1.79661431],\n",
              "       [100.97595202,  75.56672693,  61.67975796],\n",
              "       [ 62.75140352,  51.06929106,  43.39059704],\n",
              "       [ 19.06379069,  16.50272498,  15.58469076],\n",
              "       [181.79076191,  74.64218028,  91.71416691],\n",
              "       [189.7600582 , 161.7802242 , 175.91153744]])"
            ]
          },
          "metadata": {
            "tags": []
          },
          "execution_count": 50
        }
      ]
    },
    {
      "cell_type": "code",
      "metadata": {
        "id": "ITvrS-31OZJh",
        "outputId": "0a7a51af-f2a4-4c57-8768-cb98a9e79e46",
        "colab": {
          "base_uri": "https://localhost:8080/"
        }
      },
      "source": [
        "Clus_cen.shape"
      ],
      "execution_count": 51,
      "outputs": [
        {
          "output_type": "execute_result",
          "data": {
            "text/plain": [
              "(8, 3)"
            ]
          },
          "metadata": {
            "tags": []
          },
          "execution_count": 51
        }
      ]
    },
    {
      "cell_type": "markdown",
      "metadata": {
        "id": "L-mxynx3MLa5"
      },
      "source": [
        "##Map colors name back to imge"
      ]
    },
    {
      "cell_type": "code",
      "metadata": {
        "id": "0MEtVMYeHcK7"
      },
      "source": [
        "new_img=np.zeros(RGB_img.shape)\n",
        "for i in range(RGB_img.shape[0]):\n",
        "  for j in range(RGB_img.shape[1]):\n",
        "      new_img[i,j,:]=Clus_cen[myQuantize.predict([RGB_img[i,j,:]]),:]"
      ],
      "execution_count": null,
      "outputs": []
    },
    {
      "cell_type": "code",
      "metadata": {
        "id": "QkPjpEE1HcIu",
        "outputId": "5309c34f-12e6-45ee-912f-e04550fff56c",
        "colab": {
          "base_uri": "https://localhost:8080/",
          "height": 166
        }
      },
      "source": [
        "new_img_=new_img/255"
      ],
      "execution_count": 56,
      "outputs": [
        {
          "output_type": "error",
          "ename": "NameError",
          "evalue": "ignored",
          "traceback": [
            "\u001b[0;31m---------------------------------------------------------------------------\u001b[0m",
            "\u001b[0;31mNameError\u001b[0m                                 Traceback (most recent call last)",
            "\u001b[0;32m<ipython-input-56-0ad057b045c3>\u001b[0m in \u001b[0;36m<module>\u001b[0;34m()\u001b[0m\n\u001b[0;32m----> 1\u001b[0;31m \u001b[0mnew_img_\u001b[0m\u001b[0;34m=\u001b[0m\u001b[0mnew_img\u001b[0m\u001b[0;34m/\u001b[0m\u001b[0;36m255\u001b[0m\u001b[0;34m\u001b[0m\u001b[0;34m\u001b[0m\u001b[0m\n\u001b[0m",
            "\u001b[0;31mNameError\u001b[0m: name 'new_img' is not defined"
          ]
        }
      ]
    },
    {
      "cell_type": "code",
      "metadata": {
        "id": "hKWT2qHsHb7l"
      },
      "source": [
        "plt.imshow(new_img_)"
      ],
      "execution_count": null,
      "outputs": []
    },
    {
      "cell_type": "code",
      "metadata": {
        "id": "Cwxc1jm0Hbv9"
      },
      "source": [
        ""
      ],
      "execution_count": null,
      "outputs": []
    },
    {
      "cell_type": "code",
      "metadata": {
        "id": "E90ZeHi1Hbrw"
      },
      "source": [
        ""
      ],
      "execution_count": null,
      "outputs": []
    }
  ]
}